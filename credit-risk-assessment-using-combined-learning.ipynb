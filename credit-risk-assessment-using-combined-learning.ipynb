{
 "cells": [
  {
   "cell_type": "code",
   "execution_count": 1,
   "id": "4324e46e",
   "metadata": {
    "_cell_guid": "b1076dfc-b9ad-4769-8c92-a6c4dae69d19",
    "_uuid": "8f2839f25d086af736a60e9eeb907d3b93b6e0e5",
    "execution": {
     "iopub.execute_input": "2025-01-02T16:03:13.135793Z",
     "iopub.status.busy": "2025-01-02T16:03:13.135403Z",
     "iopub.status.idle": "2025-01-02T16:03:13.541627Z",
     "shell.execute_reply": "2025-01-02T16:03:13.540424Z"
    },
    "papermill": {
     "duration": 0.422562,
     "end_time": "2025-01-02T16:03:13.544262",
     "exception": false,
     "start_time": "2025-01-02T16:03:13.121700",
     "status": "completed"
    },
    "tags": []
   },
   "outputs": [
    {
     "name": "stdout",
     "output_type": "stream",
     "text": [
      "/kaggle/input/credit-risk-dataset/credit_risk_dataset.csv\n"
     ]
    }
   ],
   "source": [
    "# This Python 3 environment comes with many helpful analytics libraries installed\n",
    "# It is defined by the kaggle/python Docker image: https://github.com/kaggle/docker-python\n",
    "# For example, here's several helpful packages to load\n",
    "\n",
    "import numpy as np # linear algebra\n",
    "import pandas as pd # data processing, CSV file I/O (e.g. pd.read_csv)\n",
    "\n",
    "# Input data files are available in the read-only \"../input/\" directory\n",
    "# For example, running this (by clicking run or pressing Shift+Enter) will list all files under the input directory\n",
    "\n",
    "import os\n",
    "for dirname, _, filenames in os.walk('/kaggle/input'):\n",
    "    for filename in filenames:\n",
    "        print(os.path.join(dirname, filename))\n",
    "\n",
    "# You can write up to 20GB to the current directory (/kaggle/working/) that gets preserved as output when you create a version using \"Save & Run All\" \n",
    "# You can also write temporary files to /kaggle/temp/, but they won't be saved outside of the current session"
   ]
  },
  {
   "cell_type": "markdown",
   "id": "b33c2589",
   "metadata": {
    "papermill": {
     "duration": 0.012132,
     "end_time": "2025-01-02T16:03:13.569328",
     "exception": false,
     "start_time": "2025-01-02T16:03:13.557196",
     "status": "completed"
    },
    "tags": []
   },
   "source": [
    "# ***Introduction:***\n",
    "\n",
    "Credit risk assessment is crucial for financial institutions, yet traditional methods like scorecards and logistic regression are limited in handling complex and high-dimensional data. *Machine learning*, especially hybrid models combining supervised and unsupervised techniques, offers a promising solution. This poroject proposes an integrated model using *Kohonen's Self-Organizing Maps (SOM) and Random Forest* to improve the accuracy and reliability of credit risk assessment."
   ]
  },
  {
   "cell_type": "markdown",
   "id": "892993b2",
   "metadata": {
    "papermill": {
     "duration": 0.011443,
     "end_time": "2025-01-02T16:03:13.592584",
     "exception": false,
     "start_time": "2025-01-02T16:03:13.581141",
     "status": "completed"
    },
    "tags": []
   },
   "source": [
    "# **Data Description**\n",
    "**1- Prepare Data**\n",
    "check data for any missing values, outliers or format problem. As well, we will need to split our data to training data for model building and deployment and test data to assess the model "
   ]
  },
  {
   "cell_type": "code",
   "execution_count": 2,
   "id": "bddda15d",
   "metadata": {
    "execution": {
     "iopub.execute_input": "2025-01-02T16:03:13.618244Z",
     "iopub.status.busy": "2025-01-02T16:03:13.617666Z",
     "iopub.status.idle": "2025-01-02T16:03:16.249451Z",
     "shell.execute_reply": "2025-01-02T16:03:16.248144Z"
    },
    "papermill": {
     "duration": 2.646748,
     "end_time": "2025-01-02T16:03:16.251506",
     "exception": false,
     "start_time": "2025-01-02T16:03:13.604758",
     "status": "completed"
    },
    "tags": []
   },
   "outputs": [],
   "source": [
    "#Import libraries\n",
    "\n",
    "from scipy import stats\n",
    "from sklearn.model_selection import GridSearchCV, cross_val_score, train_test_split\n",
    "from imblearn.over_sampling import RandomOverSampler\n",
    "import matplotlib.pyplot as plt\n",
    "import seaborn as sns\n",
    "from sklearn.ensemble import RandomForestClassifier\n",
    "from sklearn.pipeline import Pipeline, make_pipeline\n",
    "from sklearn.impute import SimpleImputer\n",
    "from sklearn.compose import ColumnTransformer\n",
    "from sklearn.preprocessing import OneHotEncoder\n",
    "from sklearn.metrics import ConfusionMatrixDisplay, classification_report\n",
    "from sklearn.metrics import roc_auc_score, average_precision_score\n",
    "from sklearn.metrics import roc_curve, precision_recall_curve\n",
    "from sklearn.preprocessing import StandardScaler, LabelEncoder\n",
    "from sklearn.metrics import accuracy_score, precision_score, recall_score, f1_score"
   ]
  },
  {
   "cell_type": "code",
   "execution_count": 3,
   "id": "97c9f809",
   "metadata": {
    "execution": {
     "iopub.execute_input": "2025-01-02T16:03:16.276148Z",
     "iopub.status.busy": "2025-01-02T16:03:16.275617Z",
     "iopub.status.idle": "2025-01-02T16:03:16.381648Z",
     "shell.execute_reply": "2025-01-02T16:03:16.380413Z"
    },
    "papermill": {
     "duration": 0.120438,
     "end_time": "2025-01-02T16:03:16.383949",
     "exception": false,
     "start_time": "2025-01-02T16:03:16.263511",
     "status": "completed"
    },
    "tags": []
   },
   "outputs": [
    {
     "name": "stdout",
     "output_type": "stream",
     "text": [
      "(32581, 12)\n",
      "   person_age  person_income person_home_ownership  person_emp_length  \\\n",
      "0          22          59000                  RENT              123.0   \n",
      "1          21           9600                   OWN                5.0   \n",
      "2          25           9600              MORTGAGE                1.0   \n",
      "3          23          65500                  RENT                4.0   \n",
      "4          24          54400                  RENT                8.0   \n",
      "\n",
      "  loan_intent loan_grade  loan_amnt  loan_int_rate  loan_status  \\\n",
      "0    PERSONAL          D      35000          16.02            1   \n",
      "1   EDUCATION          B       1000          11.14            0   \n",
      "2     MEDICAL          C       5500          12.87            1   \n",
      "3     MEDICAL          C      35000          15.23            1   \n",
      "4     MEDICAL          C      35000          14.27            1   \n",
      "\n",
      "   loan_percent_income cb_person_default_on_file  cb_person_cred_hist_length  \n",
      "0                 0.59                         Y                           3  \n",
      "1                 0.10                         N                           2  \n",
      "2                 0.57                         N                           3  \n",
      "3                 0.53                         N                           2  \n",
      "4                 0.55                         Y                           4  \n"
     ]
    }
   ],
   "source": [
    "#Load the dataset\n",
    "\n",
    "df=pd.read_csv('/kaggle/input/credit-risk-dataset/credit_risk_dataset.csv')\n",
    "\n",
    "print(df.shape)\n",
    "print(df.head())"
   ]
  },
  {
   "cell_type": "markdown",
   "id": "a5648d15",
   "metadata": {
    "papermill": {
     "duration": 0.011265,
     "end_time": "2025-01-02T16:03:16.407290",
     "exception": false,
     "start_time": "2025-01-02T16:03:16.396025",
     "status": "completed"
    },
    "tags": []
   },
   "source": [
    "Feature Name and Description:\n",
    "\n",
    "* person_age: Age\n",
    "* person_income: Annual Income\n",
    "* person_home_ownership: Home ownership\n",
    "* person_emp_length:\tEmployment length (in years)\n",
    "* loan_intent:\tLoan intent\n",
    "* loan_grade: Loan grade\n",
    "* loan_amnt:\tLoan amount\n",
    "* loan_int_rate\t: Interest rate\n",
    "* loan_status:\tLoan status (0 is non default 1 is default)\n",
    "* loan_percent_income: Percent income\n",
    "* cb_person_default_on_file\t:Historical default\n",
    "* cb_preson_cred_hist_length:\tCredit history length\n"
   ]
  },
  {
   "cell_type": "code",
   "execution_count": 4,
   "id": "32374602",
   "metadata": {
    "execution": {
     "iopub.execute_input": "2025-01-02T16:03:16.432650Z",
     "iopub.status.busy": "2025-01-02T16:03:16.432304Z",
     "iopub.status.idle": "2025-01-02T16:03:16.475007Z",
     "shell.execute_reply": "2025-01-02T16:03:16.473389Z"
    },
    "papermill": {
     "duration": 0.057494,
     "end_time": "2025-01-02T16:03:16.476950",
     "exception": false,
     "start_time": "2025-01-02T16:03:16.419456",
     "status": "completed"
    },
    "tags": []
   },
   "outputs": [
    {
     "name": "stdout",
     "output_type": "stream",
     "text": [
      "<class 'pandas.core.frame.DataFrame'>\n",
      "RangeIndex: 32581 entries, 0 to 32580\n",
      "Data columns (total 12 columns):\n",
      " #   Column                      Non-Null Count  Dtype  \n",
      "---  ------                      --------------  -----  \n",
      " 0   person_age                  32581 non-null  int64  \n",
      " 1   person_income               32581 non-null  int64  \n",
      " 2   person_home_ownership       32581 non-null  object \n",
      " 3   person_emp_length           31686 non-null  float64\n",
      " 4   loan_intent                 32581 non-null  object \n",
      " 5   loan_grade                  32581 non-null  object \n",
      " 6   loan_amnt                   32581 non-null  int64  \n",
      " 7   loan_int_rate               29465 non-null  float64\n",
      " 8   loan_status                 32581 non-null  int64  \n",
      " 9   loan_percent_income         32581 non-null  float64\n",
      " 10  cb_person_default_on_file   32581 non-null  object \n",
      " 11  cb_person_cred_hist_length  32581 non-null  int64  \n",
      "dtypes: float64(3), int64(5), object(4)\n",
      "memory usage: 3.0+ MB\n",
      "person_age                       0\n",
      "person_income                    0\n",
      "person_home_ownership            0\n",
      "person_emp_length              895\n",
      "loan_intent                      0\n",
      "loan_grade                       0\n",
      "loan_amnt                        0\n",
      "loan_int_rate                 3116\n",
      "loan_status                      0\n",
      "loan_percent_income              0\n",
      "cb_person_default_on_file        0\n",
      "cb_person_cred_hist_length       0\n",
      "dtype: int64\n"
     ]
    }
   ],
   "source": [
    "#Checking and handling missing data\n",
    "df.info()\n",
    "print(df.isnull().sum())"
   ]
  },
  {
   "cell_type": "markdown",
   "id": "3a3a3605",
   "metadata": {
    "papermill": {
     "duration": 0.010941,
     "end_time": "2025-01-02T16:03:16.499710",
     "exception": false,
     "start_time": "2025-01-02T16:03:16.488769",
     "status": "completed"
    },
    "tags": []
   },
   "source": [
    "Upon checking for missing data, it was found that the columns person_emp_length and loan_int_rate have 895 and 3116 missing values, respectively. To address this issue, we can impute the missing values using either the mean or the median or drop rows that contain the NaN values"
   ]
  },
  {
   "cell_type": "code",
   "execution_count": 5,
   "id": "e0f704a4",
   "metadata": {
    "execution": {
     "iopub.execute_input": "2025-01-02T16:03:16.524477Z",
     "iopub.status.busy": "2025-01-02T16:03:16.524099Z",
     "iopub.status.idle": "2025-01-02T16:03:16.553274Z",
     "shell.execute_reply": "2025-01-02T16:03:16.552242Z"
    },
    "papermill": {
     "duration": 0.043122,
     "end_time": "2025-01-02T16:03:16.555145",
     "exception": false,
     "start_time": "2025-01-02T16:03:16.512023",
     "status": "completed"
    },
    "tags": []
   },
   "outputs": [
    {
     "name": "stdout",
     "output_type": "stream",
     "text": [
      "(28638, 12)\n",
      "<class 'pandas.core.frame.DataFrame'>\n",
      "Index: 28638 entries, 0 to 32580\n",
      "Data columns (total 12 columns):\n",
      " #   Column                      Non-Null Count  Dtype  \n",
      "---  ------                      --------------  -----  \n",
      " 0   person_age                  28638 non-null  int64  \n",
      " 1   person_income               28638 non-null  int64  \n",
      " 2   person_home_ownership       28638 non-null  object \n",
      " 3   person_emp_length           28638 non-null  float64\n",
      " 4   loan_intent                 28638 non-null  object \n",
      " 5   loan_grade                  28638 non-null  object \n",
      " 6   loan_amnt                   28638 non-null  int64  \n",
      " 7   loan_int_rate               28638 non-null  float64\n",
      " 8   loan_status                 28638 non-null  int64  \n",
      " 9   loan_percent_income         28638 non-null  float64\n",
      " 10  cb_person_default_on_file   28638 non-null  object \n",
      " 11  cb_person_cred_hist_length  28638 non-null  int64  \n",
      "dtypes: float64(3), int64(5), object(4)\n",
      "memory usage: 2.8+ MB\n",
      "None\n"
     ]
    }
   ],
   "source": [
    "df.dropna(inplace=True)\n",
    "print(df.shape)\n",
    "print(df.info())"
   ]
  },
  {
   "cell_type": "code",
   "execution_count": 6,
   "id": "38fecaed",
   "metadata": {
    "execution": {
     "iopub.execute_input": "2025-01-02T16:03:16.581528Z",
     "iopub.status.busy": "2025-01-02T16:03:16.581161Z",
     "iopub.status.idle": "2025-01-02T16:03:16.591371Z",
     "shell.execute_reply": "2025-01-02T16:03:16.590061Z"
    },
    "papermill": {
     "duration": 0.02593,
     "end_time": "2025-01-02T16:03:16.593287",
     "exception": false,
     "start_time": "2025-01-02T16:03:16.567357",
     "status": "completed"
    },
    "tags": []
   },
   "outputs": [
    {
     "name": "stdout",
     "output_type": "stream",
     "text": [
      "X shape: (28638, 11)\n",
      "y shape: (28638,)\n"
     ]
    }
   ],
   "source": [
    "#Creating Feature Matrix and Target Vector\n",
    "\n",
    "X=df.drop(columns=\"loan_status\")\n",
    "y=df[\"loan_status\"]\n",
    "print(\"X shape:\", X.shape)\n",
    "print(\"y shape:\", y.shape)\n"
   ]
  },
  {
   "cell_type": "code",
   "execution_count": 7,
   "id": "a49c45fa",
   "metadata": {
    "execution": {
     "iopub.execute_input": "2025-01-02T16:03:16.620122Z",
     "iopub.status.busy": "2025-01-02T16:03:16.619702Z",
     "iopub.status.idle": "2025-01-02T16:03:16.635647Z",
     "shell.execute_reply": "2025-01-02T16:03:16.634350Z"
    },
    "papermill": {
     "duration": 0.032626,
     "end_time": "2025-01-02T16:03:16.637528",
     "exception": false,
     "start_time": "2025-01-02T16:03:16.604902",
     "status": "completed"
    },
    "tags": []
   },
   "outputs": [
    {
     "name": "stdout",
     "output_type": "stream",
     "text": [
      "X_train shape: (20046, 11)\n",
      "y_train shape: (20046,)\n",
      "X_test shape: (8592, 11)\n",
      "y_test shape: (8592,)\n"
     ]
    }
   ],
   "source": [
    "# Splitting data into training data and Test data \n",
    "X_train, X_test, y_train, y_test = train_test_split(\n",
    "    X, y, test_size=0.3, random_state=42\n",
    ")\n",
    "\n",
    "print(\"X_train shape:\", X_train.shape)\n",
    "print(\"y_train shape:\", y_train.shape)\n",
    "print(\"X_test shape:\", X_test.shape)\n",
    "print(\"y_test shape:\", y_test.shape)\n"
   ]
  },
  {
   "cell_type": "code",
   "execution_count": 8,
   "id": "a0a9bc98",
   "metadata": {
    "execution": {
     "iopub.execute_input": "2025-01-02T16:03:16.662440Z",
     "iopub.status.busy": "2025-01-02T16:03:16.662095Z",
     "iopub.status.idle": "2025-01-02T16:03:16.670746Z",
     "shell.execute_reply": "2025-01-02T16:03:16.669423Z"
    },
    "papermill": {
     "duration": 0.023129,
     "end_time": "2025-01-02T16:03:16.672529",
     "exception": false,
     "start_time": "2025-01-02T16:03:16.649400",
     "status": "completed"
    },
    "tags": []
   },
   "outputs": [
    {
     "name": "stdout",
     "output_type": "stream",
     "text": [
      "loan_status\n",
      "0    15720\n",
      "1     4326\n",
      "Name: count, dtype: int64\n"
     ]
    }
   ],
   "source": [
    "print(pd.Series(y_train).value_counts())"
   ]
  },
  {
   "cell_type": "markdown",
   "id": "ff5e184f",
   "metadata": {
    "papermill": {
     "duration": 0.011536,
     "end_time": "2025-01-02T16:03:16.696471",
     "exception": false,
     "start_time": "2025-01-02T16:03:16.684935",
     "status": "completed"
    },
    "tags": []
   },
   "source": [
    "As we can see, we are facing imbalanced data. To solve this issue, we create a new feature matrix X_train_over and target vector y_train_over by performing random over-sampling on the training data. The main purpose of this step is to balance the dataset so that a machine learning model can be trained more effectively without being biased towards the majority class.\n"
   ]
  },
  {
   "cell_type": "code",
   "execution_count": 9,
   "id": "4ab5ee46",
   "metadata": {
    "execution": {
     "iopub.execute_input": "2025-01-02T16:03:16.724428Z",
     "iopub.status.busy": "2025-01-02T16:03:16.724049Z",
     "iopub.status.idle": "2025-01-02T16:03:16.792336Z",
     "shell.execute_reply": "2025-01-02T16:03:16.791173Z"
    },
    "papermill": {
     "duration": 0.085217,
     "end_time": "2025-01-02T16:03:16.794409",
     "exception": false,
     "start_time": "2025-01-02T16:03:16.709192",
     "status": "completed"
    },
    "tags": []
   },
   "outputs": [
    {
     "name": "stdout",
     "output_type": "stream",
     "text": [
      "X_train_over shape: (31440, 11)\n"
     ]
    },
    {
     "data": {
      "text/html": [
       "<div>\n",
       "<style scoped>\n",
       "    .dataframe tbody tr th:only-of-type {\n",
       "        vertical-align: middle;\n",
       "    }\n",
       "\n",
       "    .dataframe tbody tr th {\n",
       "        vertical-align: top;\n",
       "    }\n",
       "\n",
       "    .dataframe thead th {\n",
       "        text-align: right;\n",
       "    }\n",
       "</style>\n",
       "<table border=\"1\" class=\"dataframe\">\n",
       "  <thead>\n",
       "    <tr style=\"text-align: right;\">\n",
       "      <th></th>\n",
       "      <th>person_age</th>\n",
       "      <th>person_income</th>\n",
       "      <th>person_home_ownership</th>\n",
       "      <th>person_emp_length</th>\n",
       "      <th>loan_intent</th>\n",
       "      <th>loan_grade</th>\n",
       "      <th>loan_amnt</th>\n",
       "      <th>loan_int_rate</th>\n",
       "      <th>loan_percent_income</th>\n",
       "      <th>cb_person_default_on_file</th>\n",
       "      <th>cb_person_cred_hist_length</th>\n",
       "    </tr>\n",
       "  </thead>\n",
       "  <tbody>\n",
       "    <tr>\n",
       "      <th>0</th>\n",
       "      <td>36</td>\n",
       "      <td>430000</td>\n",
       "      <td>RENT</td>\n",
       "      <td>2.0</td>\n",
       "      <td>VENTURE</td>\n",
       "      <td>C</td>\n",
       "      <td>25000</td>\n",
       "      <td>13.80</td>\n",
       "      <td>0.06</td>\n",
       "      <td>Y</td>\n",
       "      <td>16</td>\n",
       "    </tr>\n",
       "    <tr>\n",
       "      <th>1</th>\n",
       "      <td>30</td>\n",
       "      <td>48000</td>\n",
       "      <td>RENT</td>\n",
       "      <td>1.0</td>\n",
       "      <td>EDUCATION</td>\n",
       "      <td>B</td>\n",
       "      <td>10000</td>\n",
       "      <td>12.18</td>\n",
       "      <td>0.21</td>\n",
       "      <td>N</td>\n",
       "      <td>9</td>\n",
       "    </tr>\n",
       "    <tr>\n",
       "      <th>2</th>\n",
       "      <td>24</td>\n",
       "      <td>61400</td>\n",
       "      <td>RENT</td>\n",
       "      <td>1.0</td>\n",
       "      <td>VENTURE</td>\n",
       "      <td>C</td>\n",
       "      <td>12250</td>\n",
       "      <td>12.23</td>\n",
       "      <td>0.20</td>\n",
       "      <td>N</td>\n",
       "      <td>4</td>\n",
       "    </tr>\n",
       "    <tr>\n",
       "      <th>3</th>\n",
       "      <td>23</td>\n",
       "      <td>97000</td>\n",
       "      <td>MORTGAGE</td>\n",
       "      <td>5.0</td>\n",
       "      <td>EDUCATION</td>\n",
       "      <td>B</td>\n",
       "      <td>12000</td>\n",
       "      <td>9.91</td>\n",
       "      <td>0.12</td>\n",
       "      <td>N</td>\n",
       "      <td>2</td>\n",
       "    </tr>\n",
       "    <tr>\n",
       "      <th>4</th>\n",
       "      <td>43</td>\n",
       "      <td>142500</td>\n",
       "      <td>MORTGAGE</td>\n",
       "      <td>7.0</td>\n",
       "      <td>MEDICAL</td>\n",
       "      <td>B</td>\n",
       "      <td>20000</td>\n",
       "      <td>11.49</td>\n",
       "      <td>0.14</td>\n",
       "      <td>N</td>\n",
       "      <td>15</td>\n",
       "    </tr>\n",
       "  </tbody>\n",
       "</table>\n",
       "</div>"
      ],
      "text/plain": [
       "   person_age  person_income person_home_ownership  person_emp_length  \\\n",
       "0          36         430000                  RENT                2.0   \n",
       "1          30          48000                  RENT                1.0   \n",
       "2          24          61400                  RENT                1.0   \n",
       "3          23          97000              MORTGAGE                5.0   \n",
       "4          43         142500              MORTGAGE                7.0   \n",
       "\n",
       "  loan_intent loan_grade  loan_amnt  loan_int_rate  loan_percent_income  \\\n",
       "0     VENTURE          C      25000          13.80                 0.06   \n",
       "1   EDUCATION          B      10000          12.18                 0.21   \n",
       "2     VENTURE          C      12250          12.23                 0.20   \n",
       "3   EDUCATION          B      12000           9.91                 0.12   \n",
       "4     MEDICAL          B      20000          11.49                 0.14   \n",
       "\n",
       "  cb_person_default_on_file  cb_person_cred_hist_length  \n",
       "0                         Y                          16  \n",
       "1                         N                           9  \n",
       "2                         N                           4  \n",
       "3                         N                           2  \n",
       "4                         N                          15  "
      ]
     },
     "execution_count": 9,
     "metadata": {},
     "output_type": "execute_result"
    }
   ],
   "source": [
    "over_sampler = RandomOverSampler(random_state=42)\n",
    "X_train_over, y_train_over = over_sampler.fit_resample(X_train, y_train)\n",
    "print(\"X_train_over shape:\", X_train_over.shape)\n",
    "X_train_over.head()\n"
   ]
  },
  {
   "cell_type": "code",
   "execution_count": 10,
   "id": "ee61e101",
   "metadata": {
    "execution": {
     "iopub.execute_input": "2025-01-02T16:03:16.822125Z",
     "iopub.status.busy": "2025-01-02T16:03:16.821627Z",
     "iopub.status.idle": "2025-01-02T16:03:16.829381Z",
     "shell.execute_reply": "2025-01-02T16:03:16.827485Z"
    },
    "papermill": {
     "duration": 0.024547,
     "end_time": "2025-01-02T16:03:16.831755",
     "exception": false,
     "start_time": "2025-01-02T16:03:16.807208",
     "status": "completed"
    },
    "tags": []
   },
   "outputs": [
    {
     "name": "stdout",
     "output_type": "stream",
     "text": [
      "loan_status\n",
      "0    15720\n",
      "1    15720\n",
      "Name: count, dtype: int64\n"
     ]
    }
   ],
   "source": [
    "#Check the balancing again \n",
    "print(pd.Series(y_train_over).value_counts())"
   ]
  },
  {
   "cell_type": "markdown",
   "id": "76179d3f",
   "metadata": {
    "papermill": {
     "duration": 0.011926,
     "end_time": "2025-01-02T16:03:16.856821",
     "exception": false,
     "start_time": "2025-01-02T16:03:16.844895",
     "status": "completed"
    },
    "tags": []
   },
   "source": [
    "# **Exploratory Data Analysis (EDA)**"
   ]
  },
  {
   "cell_type": "code",
   "execution_count": 11,
   "id": "e2839c48",
   "metadata": {
    "execution": {
     "iopub.execute_input": "2025-01-02T16:03:16.882573Z",
     "iopub.status.busy": "2025-01-02T16:03:16.882158Z",
     "iopub.status.idle": "2025-01-02T16:03:17.124937Z",
     "shell.execute_reply": "2025-01-02T16:03:17.123557Z"
    },
    "papermill": {
     "duration": 0.258472,
     "end_time": "2025-01-02T16:03:17.127336",
     "exception": false,
     "start_time": "2025-01-02T16:03:16.868864",
     "status": "completed"
    },
    "tags": []
   },
   "outputs": [
    {
     "data": {
      "image/png": "[encoded data removed]",
      "text/plain": [
       "<Figure size 640x480 with 1 Axes>"
      ]
     },
     "metadata": {},
     "output_type": "display_data"
    }
   ],
   "source": [
    "# Visualize the distribution of the target variable\n",
    "sns.countplot(x='loan_status', data=df)\n",
    "plt.title('Distribution of Default vs. Non-Default')\n",
    "plt.show()\n",
    "\n"
   ]
  },
  {
   "cell_type": "code",
   "execution_count": 12,
   "id": "dedf5aef",
   "metadata": {
    "execution": {
     "iopub.execute_input": "2025-01-02T16:03:17.156668Z",
     "iopub.status.busy": "2025-01-02T16:03:17.156316Z",
     "iopub.status.idle": "2025-01-02T16:03:18.593175Z",
     "shell.execute_reply": "2025-01-02T16:03:18.592032Z"
    },
    "papermill": {
     "duration": 1.455338,
     "end_time": "2025-01-02T16:03:18.595962",
     "exception": false,
     "start_time": "2025-01-02T16:03:17.140624",
     "status": "completed"
    },
    "tags": []
   },
   "outputs": [
    {
     "data": {
      "image/png": "[encoded data removed]",
      "text/plain": [
       "<Figure size 1200x800 with 9 Axes>"
      ]
     },
     "metadata": {},
     "output_type": "display_data"
    }
   ],
   "source": [
    "\n",
    "# Visualize feature distributions\n",
    "X.hist(bins=30, figsize=(12, 8))\n",
    "plt.show()\n"
   ]
  },
  {
   "cell_type": "code",
   "execution_count": 13,
   "id": "dfeafa9d",
   "metadata": {
    "execution": {
     "iopub.execute_input": "2025-01-02T16:03:18.629660Z",
     "iopub.status.busy": "2025-01-02T16:03:18.629323Z",
     "iopub.status.idle": "2025-01-02T16:03:19.151015Z",
     "shell.execute_reply": "2025-01-02T16:03:19.149857Z"
    },
    "papermill": {
     "duration": 0.540964,
     "end_time": "2025-01-02T16:03:19.152805",
     "exception": false,
     "start_time": "2025-01-02T16:03:18.611841",
     "status": "completed"
    },
    "tags": []
   },
   "outputs": [
    {
     "data": {
      "image/png": "[encoded data removed]",
      "text/plain": [
       "<Figure size 1000x800 with 2 Axes>"
      ]
     },
     "metadata": {},
     "output_type": "display_data"
    }
   ],
   "source": [
    "df_numeric = df.select_dtypes(include=['float64', 'int64'])\n",
    "df_cat= df.select_dtypes(include=[\"object\"])\n",
    "# Correlation matrix\n",
    "corr_matrix = df_numeric.corr()\n",
    "plt.figure(figsize=(10, 8))\n",
    "sns.heatmap(corr_matrix, annot=True, cmap='coolwarm', fmt='.2f')\n",
    "plt.title('Correlation Matrix')\n",
    "plt.show()"
   ]
  },
  {
   "cell_type": "markdown",
   "id": "afce57a8",
   "metadata": {
    "papermill": {
     "duration": 0.015582,
     "end_time": "2025-01-02T16:03:19.185156",
     "exception": false,
     "start_time": "2025-01-02T16:03:19.169574",
     "status": "completed"
    },
    "tags": []
   },
   "source": [
    "we see a high correlation between person_age and cb_person_cred_hist_length (credit personal history length) which is normal "
   ]
  },
  {
   "cell_type": "code",
   "execution_count": 14,
   "id": "23727396",
   "metadata": {
    "execution": {
     "iopub.execute_input": "2025-01-02T16:03:19.218886Z",
     "iopub.status.busy": "2025-01-02T16:03:19.218504Z",
     "iopub.status.idle": "2025-01-02T16:03:19.257478Z",
     "shell.execute_reply": "2025-01-02T16:03:19.256000Z"
    },
    "papermill": {
     "duration": 0.058261,
     "end_time": "2025-01-02T16:03:19.259513",
     "exception": false,
     "start_time": "2025-01-02T16:03:19.201252",
     "status": "completed"
    },
    "tags": []
   },
   "outputs": [
    {
     "data": {
      "text/html": [
       "<div>\n",
       "<style scoped>\n",
       "    .dataframe tbody tr th:only-of-type {\n",
       "        vertical-align: middle;\n",
       "    }\n",
       "\n",
       "    .dataframe tbody tr th {\n",
       "        vertical-align: top;\n",
       "    }\n",
       "\n",
       "    .dataframe thead th {\n",
       "        text-align: right;\n",
       "    }\n",
       "</style>\n",
       "<table border=\"1\" class=\"dataframe\">\n",
       "  <thead>\n",
       "    <tr style=\"text-align: right;\">\n",
       "      <th></th>\n",
       "      <th>person_age</th>\n",
       "      <th>person_income</th>\n",
       "      <th>person_emp_length</th>\n",
       "      <th>loan_amnt</th>\n",
       "      <th>loan_int_rate</th>\n",
       "      <th>loan_status</th>\n",
       "      <th>loan_percent_income</th>\n",
       "      <th>cb_person_cred_hist_length</th>\n",
       "    </tr>\n",
       "  </thead>\n",
       "  <tbody>\n",
       "    <tr>\n",
       "      <th>count</th>\n",
       "      <td>28638.000000</td>\n",
       "      <td>2.863800e+04</td>\n",
       "      <td>28638.000000</td>\n",
       "      <td>28638.000000</td>\n",
       "      <td>28638.000000</td>\n",
       "      <td>28638.000000</td>\n",
       "      <td>28638.000000</td>\n",
       "      <td>28638.000000</td>\n",
       "    </tr>\n",
       "    <tr>\n",
       "      <th>mean</th>\n",
       "      <td>27.727216</td>\n",
       "      <td>6.664937e+04</td>\n",
       "      <td>4.788672</td>\n",
       "      <td>9656.493121</td>\n",
       "      <td>11.039867</td>\n",
       "      <td>0.216600</td>\n",
       "      <td>0.169488</td>\n",
       "      <td>5.793736</td>\n",
       "    </tr>\n",
       "    <tr>\n",
       "      <th>std</th>\n",
       "      <td>6.310441</td>\n",
       "      <td>6.235645e+04</td>\n",
       "      <td>4.154627</td>\n",
       "      <td>6329.683361</td>\n",
       "      <td>3.229372</td>\n",
       "      <td>0.411935</td>\n",
       "      <td>0.106393</td>\n",
       "      <td>4.038483</td>\n",
       "    </tr>\n",
       "    <tr>\n",
       "      <th>min</th>\n",
       "      <td>20.000000</td>\n",
       "      <td>4.000000e+03</td>\n",
       "      <td>0.000000</td>\n",
       "      <td>500.000000</td>\n",
       "      <td>5.420000</td>\n",
       "      <td>0.000000</td>\n",
       "      <td>0.000000</td>\n",
       "      <td>2.000000</td>\n",
       "    </tr>\n",
       "    <tr>\n",
       "      <th>25%</th>\n",
       "      <td>23.000000</td>\n",
       "      <td>3.948000e+04</td>\n",
       "      <td>2.000000</td>\n",
       "      <td>5000.000000</td>\n",
       "      <td>7.900000</td>\n",
       "      <td>0.000000</td>\n",
       "      <td>0.090000</td>\n",
       "      <td>3.000000</td>\n",
       "    </tr>\n",
       "    <tr>\n",
       "      <th>50%</th>\n",
       "      <td>26.000000</td>\n",
       "      <td>5.595600e+04</td>\n",
       "      <td>4.000000</td>\n",
       "      <td>8000.000000</td>\n",
       "      <td>10.990000</td>\n",
       "      <td>0.000000</td>\n",
       "      <td>0.150000</td>\n",
       "      <td>4.000000</td>\n",
       "    </tr>\n",
       "    <tr>\n",
       "      <th>75%</th>\n",
       "      <td>30.000000</td>\n",
       "      <td>8.000000e+04</td>\n",
       "      <td>7.000000</td>\n",
       "      <td>12500.000000</td>\n",
       "      <td>13.480000</td>\n",
       "      <td>0.000000</td>\n",
       "      <td>0.230000</td>\n",
       "      <td>8.000000</td>\n",
       "    </tr>\n",
       "    <tr>\n",
       "      <th>max</th>\n",
       "      <td>144.000000</td>\n",
       "      <td>6.000000e+06</td>\n",
       "      <td>123.000000</td>\n",
       "      <td>35000.000000</td>\n",
       "      <td>23.220000</td>\n",
       "      <td>1.000000</td>\n",
       "      <td>0.830000</td>\n",
       "      <td>30.000000</td>\n",
       "    </tr>\n",
       "  </tbody>\n",
       "</table>\n",
       "</div>"
      ],
      "text/plain": [
       "         person_age  person_income  person_emp_length     loan_amnt  \\\n",
       "count  28638.000000   2.863800e+04       28638.000000  28638.000000   \n",
       "mean      27.727216   6.664937e+04           4.788672   9656.493121   \n",
       "std        6.310441   6.235645e+04           4.154627   6329.683361   \n",
       "min       20.000000   4.000000e+03           0.000000    500.000000   \n",
       "25%       23.000000   3.948000e+04           2.000000   5000.000000   \n",
       "50%       26.000000   5.595600e+04           4.000000   8000.000000   \n",
       "75%       30.000000   8.000000e+04           7.000000  12500.000000   \n",
       "max      144.000000   6.000000e+06         123.000000  35000.000000   \n",
       "\n",
       "       loan_int_rate   loan_status  loan_percent_income  \\\n",
       "count   28638.000000  28638.000000         28638.000000   \n",
       "mean       11.039867      0.216600             0.169488   \n",
       "std         3.229372      0.411935             0.106393   \n",
       "min         5.420000      0.000000             0.000000   \n",
       "25%         7.900000      0.000000             0.090000   \n",
       "50%        10.990000      0.000000             0.150000   \n",
       "75%        13.480000      0.000000             0.230000   \n",
       "max        23.220000      1.000000             0.830000   \n",
       "\n",
       "       cb_person_cred_hist_length  \n",
       "count                28638.000000  \n",
       "mean                     5.793736  \n",
       "std                      4.038483  \n",
       "min                      2.000000  \n",
       "25%                      3.000000  \n",
       "50%                      4.000000  \n",
       "75%                      8.000000  \n",
       "max                     30.000000  "
      ]
     },
     "execution_count": 14,
     "metadata": {},
     "output_type": "execute_result"
    }
   ],
   "source": [
    "df.describe()"
   ]
  },
  {
   "cell_type": "markdown",
   "id": "dd1d939d",
   "metadata": {
    "papermill": {
     "duration": 0.016438,
     "end_time": "2025-01-02T16:03:19.293856",
     "exception": false,
     "start_time": "2025-01-02T16:03:19.277418",
     "status": "completed"
    },
    "tags": []
   },
   "source": [
    "# **Build Model**\n",
    "As announced previously, we aim to develop  an  integrated model  combining  Kohonen's  Self-Organizing  Maps (SOM) with the Random Forest algorithm to improve the accuracy and reliability of credit risk assessment. \n",
    "\n",
    "Firstly we will run those two types of models separately\n",
    "\n",
    " **1-Supervised Model**\n",
    "\n",
    "Random Forest is an ensemble machine learning algorithm primarily used for classification and regression tasks. It builds multiple decision trees and combines their outputs to improve predictive accuracy and control overfitting."
   ]
  },
  {
   "cell_type": "code",
   "execution_count": 15,
   "id": "331c38a5",
   "metadata": {
    "execution": {
     "iopub.execute_input": "2025-01-02T16:03:19.328490Z",
     "iopub.status.busy": "2025-01-02T16:03:19.327916Z",
     "iopub.status.idle": "2025-01-02T16:03:19.335432Z",
     "shell.execute_reply": "2025-01-02T16:03:19.333945Z"
    },
    "papermill": {
     "duration": 0.026609,
     "end_time": "2025-01-02T16:03:19.337512",
     "exception": false,
     "start_time": "2025-01-02T16:03:19.310903",
     "status": "completed"
    },
    "tags": []
   },
   "outputs": [
    {
     "name": "stdout",
     "output_type": "stream",
     "text": [
      "Baseline Accuracy: 0.7842\n"
     ]
    }
   ],
   "source": [
    "#Baseline accuracy score for Model\n",
    "acc_baseline = y_train.value_counts(normalize=True).max()\n",
    "print(\"Baseline Accuracy:\", round(acc_baseline, 4))\n"
   ]
  },
  {
   "cell_type": "code",
   "execution_count": 16,
   "id": "70339300",
   "metadata": {
    "execution": {
     "iopub.execute_input": "2025-01-02T16:03:19.372433Z",
     "iopub.status.busy": "2025-01-02T16:03:19.372051Z",
     "iopub.status.idle": "2025-01-02T16:03:19.416396Z",
     "shell.execute_reply": "2025-01-02T16:03:19.414689Z"
    },
    "papermill": {
     "duration": 0.064123,
     "end_time": "2025-01-02T16:03:19.418460",
     "exception": false,
     "start_time": "2025-01-02T16:03:19.354337",
     "status": "completed"
    },
    "tags": []
   },
   "outputs": [
    {
     "name": "stdout",
     "output_type": "stream",
     "text": [
      "Numeric columns in X_train_over: ['person_age', 'person_income', 'person_emp_length', 'loan_amnt', 'loan_int_rate', 'loan_percent_income', 'cb_person_cred_hist_length']\n",
      "Categorical columns in X_train_over: ['person_home_ownership', 'loan_intent', 'loan_grade', 'cb_person_default_on_file']\n",
      "Pipeline(steps=[('preprocessor',\n",
      "                 ColumnTransformer(transformers=[('num', SimpleImputer(),\n",
      "                                                  ['person_age',\n",
      "                                                   'person_income',\n",
      "                                                   'person_emp_length',\n",
      "                                                   'loan_amnt', 'loan_int_rate',\n",
      "                                                   'loan_percent_income',\n",
      "                                                   'cb_person_cred_hist_length']),\n",
      "                                                 ('cat',\n",
      "                                                  Pipeline(steps=[('imputer',\n",
      "                                                                   SimpleImputer(strategy='most_frequent')),\n",
      "                                                                  ('encoder',\n",
      "                                                                   OneHotEncoder(handle_unknown='ignore'))]),\n",
      "                                                  ['person_home_ownership',\n",
      "                                                   'loan_intent', 'loan_grade',\n",
      "                                                   'cb_person_default_on_file'])])),\n",
      "                ('randomforestclassifier',\n",
      "                 RandomForestClassifier(random_state=42))])\n"
     ]
    }
   ],
   "source": [
    "# Ensure correct column extraction\n",
    "df_numeric = X_train_over.select_dtypes(include=['float64', 'int64']).columns.tolist()\n",
    "df_cat = X_train_over.select_dtypes(include=[\"object\"]).columns.tolist()\n",
    "\n",
    "# Check the columns in X_train_over to make sure they match\n",
    "print(\"Numeric columns in X_train_over:\", X_train_over.select_dtypes(include=['float64', 'int64']).columns.tolist())\n",
    "print(\"Categorical columns in X_train_over:\", X_train_over.select_dtypes(include=[\"object\"]).columns.tolist())\n",
    "\n",
    "# Define the preprocessing pipeline for numerical and categorical features\n",
    "preprocessor = ColumnTransformer(\n",
    "    transformers=[\n",
    "        ('num', SimpleImputer(strategy='mean'), df_numeric),  # Impute missing numerical values with the mean\n",
    "        ('cat', Pipeline([\n",
    "            ('imputer', SimpleImputer(strategy='most_frequent')),  # Impute missing categorical values with the mode\n",
    "            ('encoder', OneHotEncoder(handle_unknown='ignore'))  # One-hot encode the categorical features\n",
    "        ]), df_cat)\n",
    "    ])\n",
    "\n",
    "# Build Pipeline named clf (\"Classifier\")\n",
    "clf = Pipeline(steps=[\n",
    "    ('preprocessor', preprocessor),\n",
    "    ('randomforestclassifier', RandomForestClassifier(random_state=42))\n",
    "])\n",
    "print(clf)\n",
    "\n",
    "# Create a dictionary with the range of hyperparameters that we want to evaluate for our classifier.\n",
    "params = {\n",
    "    \"preprocessor__num__strategy\": [\"mean\", \"median\"],\n",
    "    \"preprocessor__cat__imputer__strategy\": [\"most_frequent\"], \n",
    "    \"randomforestclassifier__n_estimators\": range(25, 100, 25), \n",
    "    \"randomforestclassifier__max_depth\": range(10, 50, 10)\n",
    "}\n",
    "\n",
    "# Search over these hyperparameters in order to find the optimal set of hyperparameters that lead to the best model performance.\n",
    "model = GridSearchCV(\n",
    "    clf,\n",
    "    param_grid=params,\n",
    "    cv=5,\n",
    "    n_jobs=-1,\n",
    "    verbose=1\n",
    ")"
   ]
  },
  {
   "cell_type": "code",
   "execution_count": 17,
   "id": "944281ad",
   "metadata": {
    "execution": {
     "iopub.execute_input": "2025-01-02T16:03:19.455835Z",
     "iopub.status.busy": "2025-01-02T16:03:19.455449Z",
     "iopub.status.idle": "2025-01-02T16:04:30.423107Z",
     "shell.execute_reply": "2025-01-02T16:04:30.421823Z"
    },
    "papermill": {
     "duration": 71.004456,
     "end_time": "2025-01-02T16:04:30.440804",
     "exception": false,
     "start_time": "2025-01-02T16:03:19.436348",
     "status": "completed"
    },
    "tags": []
   },
   "outputs": [
    {
     "name": "stdout",
     "output_type": "stream",
     "text": [
      "Fitting 5 folds for each of 24 candidates, totalling 120 fits\n"
     ]
    },
    {
     "data": {
      "text/html": [
       "<style>#sk-container-id-1 {color: black;background-color: white;}#sk-container-id-1 pre{padding: 0;}#sk-container-id-1 div.sk-toggleable {background-color: white;}#sk-container-id-1 label.sk-toggleable__label {cursor: pointer;display: block;width: 100%;margin-bottom: 0;padding: 0.3em;box-sizing: border-box;text-align: center;}#sk-container-id-1 label.sk-toggleable__label-arrow:before {content: \"▸\";float: left;margin-right: 0.25em;color: #696969;}#sk-container-id-1 label.sk-toggleable__label-arrow:hover:before {color: black;}#sk-container-id-1 div.sk-estimator:hover label.sk-toggleable__label-arrow:before {color: black;}#sk-container-id-1 div.sk-toggleable__content {max-height: 0;max-width: 0;overflow: hidden;text-align: left;background-color: #f0f8ff;}#sk-container-id-1 div.sk-toggleable__content pre {margin: 0.2em;color: black;border-radius: 0.25em;background-color: #f0f8ff;}#sk-container-id-1 input.sk-toggleable__control:checked~div.sk-toggleable__content {max-height: 200px;max-width: 100%;overflow: auto;}#sk-container-id-1 input.sk-toggleable__control:checked~label.sk-toggleable__label-arrow:before {content: \"▾\";}#sk-container-id-1 div.sk-estimator input.sk-toggleable__control:checked~label.sk-toggleable__label {background-color: #d4ebff;}#sk-container-id-1 div.sk-label input.sk-toggleable__control:checked~label.sk-toggleable__label {background-color: #d4ebff;}#sk-container-id-1 input.sk-hidden--visually {border: 0;clip: rect(1px 1px 1px 1px);clip: rect(1px, 1px, 1px, 1px);height: 1px;margin: -1px;overflow: hidden;padding: 0;position: absolute;width: 1px;}#sk-container-id-1 div.sk-estimator {font-family: monospace;background-color: #f0f8ff;border: 1px dotted black;border-radius: 0.25em;box-sizing: border-box;margin-bottom: 0.5em;}#sk-container-id-1 div.sk-estimator:hover {background-color: #d4ebff;}#sk-container-id-1 div.sk-parallel-item::after {content: \"\";width: 100%;border-bottom: 1px solid gray;flex-grow: 1;}#sk-container-id-1 div.sk-label:hover label.sk-toggleable__label {background-color: #d4ebff;}#sk-container-id-1 div.sk-serial::before {content: \"\";position: absolute;border-left: 1px solid gray;box-sizing: border-box;top: 0;bottom: 0;left: 50%;z-index: 0;}#sk-container-id-1 div.sk-serial {display: flex;flex-direction: column;align-items: center;background-color: white;padding-right: 0.2em;padding-left: 0.2em;position: relative;}#sk-container-id-1 div.sk-item {position: relative;z-index: 1;}#sk-container-id-1 div.sk-parallel {display: flex;align-items: stretch;justify-content: center;background-color: white;position: relative;}#sk-container-id-1 div.sk-item::before, #sk-container-id-1 div.sk-parallel-item::before {content: \"\";position: absolute;border-left: 1px solid gray;box-sizing: border-box;top: 0;bottom: 0;left: 50%;z-index: -1;}#sk-container-id-1 div.sk-parallel-item {display: flex;flex-direction: column;z-index: 1;position: relative;background-color: white;}#sk-container-id-1 div.sk-parallel-item:first-child::after {align-self: flex-end;width: 50%;}#sk-container-id-1 div.sk-parallel-item:last-child::after {align-self: flex-start;width: 50%;}#sk-container-id-1 div.sk-parallel-item:only-child::after {width: 0;}#sk-container-id-1 div.sk-dashed-wrapped {border: 1px dashed gray;margin: 0 0.4em 0.5em 0.4em;box-sizing: border-box;padding-bottom: 0.4em;background-color: white;}#sk-container-id-1 div.sk-label label {font-family: monospace;font-weight: bold;display: inline-block;line-height: 1.2em;}#sk-container-id-1 div.sk-label-container {text-align: center;}#sk-container-id-1 div.sk-container {/* jupyter's `normalize.less` sets `[hidden] { display: none; }` but bootstrap.min.css set `[hidden] { display: none !important; }` so we also need the `!important` here to be able to override the default hidden behavior on the sphinx rendered scikit-learn.org. See: https://github.com/scikit-learn/scikit-learn/issues/21755 */display: inline-block !important;position: relative;}#sk-container-id-1 div.sk-text-repr-fallback {display: none;}</style><div id=\"sk-container-id-1\" class=\"sk-top-container\"><div class=\"sk-text-repr-fallback\"><pre>GridSearchCV(cv=5,\n",
       "             estimator=Pipeline(steps=[(&#x27;preprocessor&#x27;,\n",
       "                                        ColumnTransformer(transformers=[(&#x27;num&#x27;,\n",
       "                                                                         SimpleImputer(),\n",
       "                                                                         [&#x27;person_age&#x27;,\n",
       "                                                                          &#x27;person_income&#x27;,\n",
       "                                                                          &#x27;person_emp_length&#x27;,\n",
       "                                                                          &#x27;loan_amnt&#x27;,\n",
       "                                                                          &#x27;loan_int_rate&#x27;,\n",
       "                                                                          &#x27;loan_percent_income&#x27;,\n",
       "                                                                          &#x27;cb_person_cred_hist_length&#x27;]),\n",
       "                                                                        (&#x27;cat&#x27;,\n",
       "                                                                         Pipeline(steps=[(&#x27;imputer&#x27;,\n",
       "                                                                                          SimpleImputer(strategy=&#x27;most_frequent&#x27;)),\n",
       "                                                                                         (&#x27;encoder&#x27;,\n",
       "                                                                                          OneHotEncoder(hand...\n",
       "                                                                          &#x27;loan_grade&#x27;,\n",
       "                                                                          &#x27;cb_person_default_on_file&#x27;])])),\n",
       "                                       (&#x27;randomforestclassifier&#x27;,\n",
       "                                        RandomForestClassifier(random_state=42))]),\n",
       "             n_jobs=-1,\n",
       "             param_grid={&#x27;preprocessor__cat__imputer__strategy&#x27;: [&#x27;most_frequent&#x27;],\n",
       "                         &#x27;preprocessor__num__strategy&#x27;: [&#x27;mean&#x27;, &#x27;median&#x27;],\n",
       "                         &#x27;randomforestclassifier__max_depth&#x27;: range(10, 50, 10),\n",
       "                         &#x27;randomforestclassifier__n_estimators&#x27;: range(25, 100, 25)},\n",
       "             verbose=1)</pre><b>In a Jupyter environment, please rerun this cell to show the HTML representation or trust the notebook. <br />On GitHub, the HTML representation is unable to render, please try loading this page with nbviewer.org.</b></div><div class=\"sk-container\" hidden><div class=\"sk-item sk-dashed-wrapped\"><div class=\"sk-label-container\"><div class=\"sk-label sk-toggleable\"><input class=\"sk-toggleable__control sk-hidden--visually\" id=\"sk-estimator-id-1\" type=\"checkbox\" ><label for=\"sk-estimator-id-1\" class=\"sk-toggleable__label sk-toggleable__label-arrow\">GridSearchCV</label><div class=\"sk-toggleable__content\"><pre>GridSearchCV(cv=5,\n",
       "             estimator=Pipeline(steps=[(&#x27;preprocessor&#x27;,\n",
       "                                        ColumnTransformer(transformers=[(&#x27;num&#x27;,\n",
       "                                                                         SimpleImputer(),\n",
       "                                                                         [&#x27;person_age&#x27;,\n",
       "                                                                          &#x27;person_income&#x27;,\n",
       "                                                                          &#x27;person_emp_length&#x27;,\n",
       "                                                                          &#x27;loan_amnt&#x27;,\n",
       "                                                                          &#x27;loan_int_rate&#x27;,\n",
       "                                                                          &#x27;loan_percent_income&#x27;,\n",
       "                                                                          &#x27;cb_person_cred_hist_length&#x27;]),\n",
       "                                                                        (&#x27;cat&#x27;,\n",
       "                                                                         Pipeline(steps=[(&#x27;imputer&#x27;,\n",
       "                                                                                          SimpleImputer(strategy=&#x27;most_frequent&#x27;)),\n",
       "                                                                                         (&#x27;encoder&#x27;,\n",
       "                                                                                          OneHotEncoder(hand...\n",
       "                                                                          &#x27;loan_grade&#x27;,\n",
       "                                                                          &#x27;cb_person_default_on_file&#x27;])])),\n",
       "                                       (&#x27;randomforestclassifier&#x27;,\n",
       "                                        RandomForestClassifier(random_state=42))]),\n",
       "             n_jobs=-1,\n",
       "             param_grid={&#x27;preprocessor__cat__imputer__strategy&#x27;: [&#x27;most_frequent&#x27;],\n",
       "                         &#x27;preprocessor__num__strategy&#x27;: [&#x27;mean&#x27;, &#x27;median&#x27;],\n",
       "                         &#x27;randomforestclassifier__max_depth&#x27;: range(10, 50, 10),\n",
       "                         &#x27;randomforestclassifier__n_estimators&#x27;: range(25, 100, 25)},\n",
       "             verbose=1)</pre></div></div></div><div class=\"sk-parallel\"><div class=\"sk-parallel-item\"><div class=\"sk-item\"><div class=\"sk-label-container\"><div class=\"sk-label sk-toggleable\"><input class=\"sk-toggleable__control sk-hidden--visually\" id=\"sk-estimator-id-2\" type=\"checkbox\" ><label for=\"sk-estimator-id-2\" class=\"sk-toggleable__label sk-toggleable__label-arrow\">estimator: Pipeline</label><div class=\"sk-toggleable__content\"><pre>Pipeline(steps=[(&#x27;preprocessor&#x27;,\n",
       "                 ColumnTransformer(transformers=[(&#x27;num&#x27;, SimpleImputer(),\n",
       "                                                  [&#x27;person_age&#x27;,\n",
       "                                                   &#x27;person_income&#x27;,\n",
       "                                                   &#x27;person_emp_length&#x27;,\n",
       "                                                   &#x27;loan_amnt&#x27;, &#x27;loan_int_rate&#x27;,\n",
       "                                                   &#x27;loan_percent_income&#x27;,\n",
       "                                                   &#x27;cb_person_cred_hist_length&#x27;]),\n",
       "                                                 (&#x27;cat&#x27;,\n",
       "                                                  Pipeline(steps=[(&#x27;imputer&#x27;,\n",
       "                                                                   SimpleImputer(strategy=&#x27;most_frequent&#x27;)),\n",
       "                                                                  (&#x27;encoder&#x27;,\n",
       "                                                                   OneHotEncoder(handle_unknown=&#x27;ignore&#x27;))]),\n",
       "                                                  [&#x27;person_home_ownership&#x27;,\n",
       "                                                   &#x27;loan_intent&#x27;, &#x27;loan_grade&#x27;,\n",
       "                                                   &#x27;cb_person_default_on_file&#x27;])])),\n",
       "                (&#x27;randomforestclassifier&#x27;,\n",
       "                 RandomForestClassifier(random_state=42))])</pre></div></div></div><div class=\"sk-serial\"><div class=\"sk-item\"><div class=\"sk-serial\"><div class=\"sk-item sk-dashed-wrapped\"><div class=\"sk-label-container\"><div class=\"sk-label sk-toggleable\"><input class=\"sk-toggleable__control sk-hidden--visually\" id=\"sk-estimator-id-3\" type=\"checkbox\" ><label for=\"sk-estimator-id-3\" class=\"sk-toggleable__label sk-toggleable__label-arrow\">preprocessor: ColumnTransformer</label><div class=\"sk-toggleable__content\"><pre>ColumnTransformer(transformers=[(&#x27;num&#x27;, SimpleImputer(),\n",
       "                                 [&#x27;person_age&#x27;, &#x27;person_income&#x27;,\n",
       "                                  &#x27;person_emp_length&#x27;, &#x27;loan_amnt&#x27;,\n",
       "                                  &#x27;loan_int_rate&#x27;, &#x27;loan_percent_income&#x27;,\n",
       "                                  &#x27;cb_person_cred_hist_length&#x27;]),\n",
       "                                (&#x27;cat&#x27;,\n",
       "                                 Pipeline(steps=[(&#x27;imputer&#x27;,\n",
       "                                                  SimpleImputer(strategy=&#x27;most_frequent&#x27;)),\n",
       "                                                 (&#x27;encoder&#x27;,\n",
       "                                                  OneHotEncoder(handle_unknown=&#x27;ignore&#x27;))]),\n",
       "                                 [&#x27;person_home_ownership&#x27;, &#x27;loan_intent&#x27;,\n",
       "                                  &#x27;loan_grade&#x27;, &#x27;cb_person_default_on_file&#x27;])])</pre></div></div></div><div class=\"sk-parallel\"><div class=\"sk-parallel-item\"><div class=\"sk-item\"><div class=\"sk-label-container\"><div class=\"sk-label sk-toggleable\"><input class=\"sk-toggleable__control sk-hidden--visually\" id=\"sk-estimator-id-4\" type=\"checkbox\" ><label for=\"sk-estimator-id-4\" class=\"sk-toggleable__label sk-toggleable__label-arrow\">num</label><div class=\"sk-toggleable__content\"><pre>[&#x27;person_age&#x27;, &#x27;person_income&#x27;, &#x27;person_emp_length&#x27;, &#x27;loan_amnt&#x27;, &#x27;loan_int_rate&#x27;, &#x27;loan_percent_income&#x27;, &#x27;cb_person_cred_hist_length&#x27;]</pre></div></div></div><div class=\"sk-serial\"><div class=\"sk-item\"><div class=\"sk-estimator sk-toggleable\"><input class=\"sk-toggleable__control sk-hidden--visually\" id=\"sk-estimator-id-5\" type=\"checkbox\" ><label for=\"sk-estimator-id-5\" class=\"sk-toggleable__label sk-toggleable__label-arrow\">SimpleImputer</label><div class=\"sk-toggleable__content\"><pre>SimpleImputer()</pre></div></div></div></div></div></div><div class=\"sk-parallel-item\"><div class=\"sk-item\"><div class=\"sk-label-container\"><div class=\"sk-label sk-toggleable\"><input class=\"sk-toggleable__control sk-hidden--visually\" id=\"sk-estimator-id-6\" type=\"checkbox\" ><label for=\"sk-estimator-id-6\" class=\"sk-toggleable__label sk-toggleable__label-arrow\">cat</label><div class=\"sk-toggleable__content\"><pre>[&#x27;person_home_ownership&#x27;, &#x27;loan_intent&#x27;, &#x27;loan_grade&#x27;, &#x27;cb_person_default_on_file&#x27;]</pre></div></div></div><div class=\"sk-serial\"><div class=\"sk-item\"><div class=\"sk-serial\"><div class=\"sk-item\"><div class=\"sk-estimator sk-toggleable\"><input class=\"sk-toggleable__control sk-hidden--visually\" id=\"sk-estimator-id-7\" type=\"checkbox\" ><label for=\"sk-estimator-id-7\" class=\"sk-toggleable__label sk-toggleable__label-arrow\">SimpleImputer</label><div class=\"sk-toggleable__content\"><pre>SimpleImputer(strategy=&#x27;most_frequent&#x27;)</pre></div></div></div><div class=\"sk-item\"><div class=\"sk-estimator sk-toggleable\"><input class=\"sk-toggleable__control sk-hidden--visually\" id=\"sk-estimator-id-8\" type=\"checkbox\" ><label for=\"sk-estimator-id-8\" class=\"sk-toggleable__label sk-toggleable__label-arrow\">OneHotEncoder</label><div class=\"sk-toggleable__content\"><pre>OneHotEncoder(handle_unknown=&#x27;ignore&#x27;)</pre></div></div></div></div></div></div></div></div></div></div><div class=\"sk-item\"><div class=\"sk-estimator sk-toggleable\"><input class=\"sk-toggleable__control sk-hidden--visually\" id=\"sk-estimator-id-9\" type=\"checkbox\" ><label for=\"sk-estimator-id-9\" class=\"sk-toggleable__label sk-toggleable__label-arrow\">RandomForestClassifier</label><div class=\"sk-toggleable__content\"><pre>RandomForestClassifier(random_state=42)</pre></div></div></div></div></div></div></div></div></div></div></div></div>"
      ],
      "text/plain": [
       "GridSearchCV(cv=5,\n",
       "             estimator=Pipeline(steps=[('preprocessor',\n",
       "                                        ColumnTransformer(transformers=[('num',\n",
       "                                                                         SimpleImputer(),\n",
       "                                                                         ['person_age',\n",
       "                                                                          'person_income',\n",
       "                                                                          'person_emp_length',\n",
       "                                                                          'loan_amnt',\n",
       "                                                                          'loan_int_rate',\n",
       "                                                                          'loan_percent_income',\n",
       "                                                                          'cb_person_cred_hist_length']),\n",
       "                                                                        ('cat',\n",
       "                                                                         Pipeline(steps=[('imputer',\n",
       "                                                                                          SimpleImputer(strategy='most_frequent')),\n",
       "                                                                                         ('encoder',\n",
       "                                                                                          OneHotEncoder(hand...\n",
       "                                                                          'loan_grade',\n",
       "                                                                          'cb_person_default_on_file'])])),\n",
       "                                       ('randomforestclassifier',\n",
       "                                        RandomForestClassifier(random_state=42))]),\n",
       "             n_jobs=-1,\n",
       "             param_grid={'preprocessor__cat__imputer__strategy': ['most_frequent'],\n",
       "                         'preprocessor__num__strategy': ['mean', 'median'],\n",
       "                         'randomforestclassifier__max_depth': range(10, 50, 10),\n",
       "                         'randomforestclassifier__n_estimators': range(25, 100, 25)},\n",
       "             verbose=1)"
      ]
     },
     "execution_count": 17,
     "metadata": {},
     "output_type": "execute_result"
    }
   ],
   "source": [
    "# Train the model\n",
    "model.fit(X_train_over, y_train_over)\n"
   ]
  },
  {
   "cell_type": "markdown",
   "id": "10ff85ef",
   "metadata": {
    "papermill": {
     "duration": 0.017938,
     "end_time": "2025-01-02T16:04:30.475169",
     "exception": false,
     "start_time": "2025-01-02T16:04:30.457231",
     "status": "completed"
    },
    "tags": []
   },
   "source": [
    "GridSearchCV is used to automatically search for the best combination of hyperparameters for a machine learning model by exhaustively testing all possible combinations from a specified parameter grid. It evaluates each combination using cross-validation, ensuring the model's performance is robust and generalizes well to unseen data. This process helps optimize the model, improving accuracy and reducing the risk of overfitting.\n",
    "\n",
    "\n",
    "\n",
    "\n",
    "\n",
    "\n"
   ]
  },
  {
   "cell_type": "code",
   "execution_count": 18,
   "id": "2f07fae3",
   "metadata": {
    "execution": {
     "iopub.execute_input": "2025-01-02T16:04:30.511075Z",
     "iopub.status.busy": "2025-01-02T16:04:30.510617Z",
     "iopub.status.idle": "2025-01-02T16:04:30.537327Z",
     "shell.execute_reply": "2025-01-02T16:04:30.536186Z"
    },
    "papermill": {
     "duration": 0.046521,
     "end_time": "2025-01-02T16:04:30.539126",
     "exception": false,
     "start_time": "2025-01-02T16:04:30.492605",
     "status": "completed"
    },
    "tags": []
   },
   "outputs": [
    {
     "data": {
      "text/html": [
       "<div>\n",
       "<style scoped>\n",
       "    .dataframe tbody tr th:only-of-type {\n",
       "        vertical-align: middle;\n",
       "    }\n",
       "\n",
       "    .dataframe tbody tr th {\n",
       "        vertical-align: top;\n",
       "    }\n",
       "\n",
       "    .dataframe thead th {\n",
       "        text-align: right;\n",
       "    }\n",
       "</style>\n",
       "<table border=\"1\" class=\"dataframe\">\n",
       "  <thead>\n",
       "    <tr style=\"text-align: right;\">\n",
       "      <th></th>\n",
       "      <th>mean_fit_time</th>\n",
       "      <th>std_fit_time</th>\n",
       "      <th>mean_score_time</th>\n",
       "      <th>std_score_time</th>\n",
       "      <th>param_preprocessor__cat__imputer__strategy</th>\n",
       "      <th>param_preprocessor__num__strategy</th>\n",
       "      <th>param_randomforestclassifier__max_depth</th>\n",
       "      <th>param_randomforestclassifier__n_estimators</th>\n",
       "      <th>params</th>\n",
       "      <th>split0_test_score</th>\n",
       "      <th>split1_test_score</th>\n",
       "      <th>split2_test_score</th>\n",
       "      <th>split3_test_score</th>\n",
       "      <th>split4_test_score</th>\n",
       "      <th>mean_test_score</th>\n",
       "      <th>std_test_score</th>\n",
       "      <th>rank_test_score</th>\n",
       "    </tr>\n",
       "  </thead>\n",
       "  <tbody>\n",
       "    <tr>\n",
       "      <th>0</th>\n",
       "      <td>0.915382</td>\n",
       "      <td>0.035052</td>\n",
       "      <td>0.048453</td>\n",
       "      <td>0.001304</td>\n",
       "      <td>most_frequent</td>\n",
       "      <td>mean</td>\n",
       "      <td>10</td>\n",
       "      <td>25</td>\n",
       "      <td>{'preprocessor__cat__imputer__strategy': 'most...</td>\n",
       "      <td>0.872615</td>\n",
       "      <td>0.879135</td>\n",
       "      <td>0.873410</td>\n",
       "      <td>0.871183</td>\n",
       "      <td>0.880089</td>\n",
       "      <td>0.875286</td>\n",
       "      <td>0.003616</td>\n",
       "      <td>21</td>\n",
       "    </tr>\n",
       "    <tr>\n",
       "      <th>1</th>\n",
       "      <td>1.573038</td>\n",
       "      <td>0.015989</td>\n",
       "      <td>0.072720</td>\n",
       "      <td>0.001522</td>\n",
       "      <td>most_frequent</td>\n",
       "      <td>mean</td>\n",
       "      <td>10</td>\n",
       "      <td>50</td>\n",
       "      <td>{'preprocessor__cat__imputer__strategy': 'most...</td>\n",
       "      <td>0.871978</td>\n",
       "      <td>0.880884</td>\n",
       "      <td>0.873569</td>\n",
       "      <td>0.871501</td>\n",
       "      <td>0.880725</td>\n",
       "      <td>0.875732</td>\n",
       "      <td>0.004199</td>\n",
       "      <td>19</td>\n",
       "    </tr>\n",
       "    <tr>\n",
       "      <th>2</th>\n",
       "      <td>2.320980</td>\n",
       "      <td>0.043292</td>\n",
       "      <td>0.096176</td>\n",
       "      <td>0.000585</td>\n",
       "      <td>most_frequent</td>\n",
       "      <td>mean</td>\n",
       "      <td>10</td>\n",
       "      <td>75</td>\n",
       "      <td>{'preprocessor__cat__imputer__strategy': 'most...</td>\n",
       "      <td>0.873728</td>\n",
       "      <td>0.880566</td>\n",
       "      <td>0.871342</td>\n",
       "      <td>0.870388</td>\n",
       "      <td>0.879453</td>\n",
       "      <td>0.875095</td>\n",
       "      <td>0.004172</td>\n",
       "      <td>23</td>\n",
       "    </tr>\n",
       "    <tr>\n",
       "      <th>3</th>\n",
       "      <td>1.148391</td>\n",
       "      <td>0.032429</td>\n",
       "      <td>0.062023</td>\n",
       "      <td>0.004002</td>\n",
       "      <td>most_frequent</td>\n",
       "      <td>mean</td>\n",
       "      <td>20</td>\n",
       "      <td>25</td>\n",
       "      <td>{'preprocessor__cat__imputer__strategy': 'most...</td>\n",
       "      <td>0.974714</td>\n",
       "      <td>0.974714</td>\n",
       "      <td>0.977099</td>\n",
       "      <td>0.979644</td>\n",
       "      <td>0.983779</td>\n",
       "      <td>0.977990</td>\n",
       "      <td>0.003421</td>\n",
       "      <td>17</td>\n",
       "    </tr>\n",
       "    <tr>\n",
       "      <th>4</th>\n",
       "      <td>2.153726</td>\n",
       "      <td>0.029073</td>\n",
       "      <td>0.095291</td>\n",
       "      <td>0.002186</td>\n",
       "      <td>most_frequent</td>\n",
       "      <td>mean</td>\n",
       "      <td>20</td>\n",
       "      <td>50</td>\n",
       "      <td>{'preprocessor__cat__imputer__strategy': 'most...</td>\n",
       "      <td>0.976304</td>\n",
       "      <td>0.978053</td>\n",
       "      <td>0.981552</td>\n",
       "      <td>0.982824</td>\n",
       "      <td>0.983779</td>\n",
       "      <td>0.980503</td>\n",
       "      <td>0.002858</td>\n",
       "      <td>15</td>\n",
       "    </tr>\n",
       "    <tr>\n",
       "      <th>5</th>\n",
       "      <td>3.076004</td>\n",
       "      <td>0.015757</td>\n",
       "      <td>0.130076</td>\n",
       "      <td>0.003533</td>\n",
       "      <td>most_frequent</td>\n",
       "      <td>mean</td>\n",
       "      <td>20</td>\n",
       "      <td>75</td>\n",
       "      <td>{'preprocessor__cat__imputer__strategy': 'most...</td>\n",
       "      <td>0.975191</td>\n",
       "      <td>0.976940</td>\n",
       "      <td>0.982983</td>\n",
       "      <td>0.982983</td>\n",
       "      <td>0.984733</td>\n",
       "      <td>0.980566</td>\n",
       "      <td>0.003771</td>\n",
       "      <td>13</td>\n",
       "    </tr>\n",
       "    <tr>\n",
       "      <th>6</th>\n",
       "      <td>1.136111</td>\n",
       "      <td>0.016895</td>\n",
       "      <td>0.062432</td>\n",
       "      <td>0.003098</td>\n",
       "      <td>most_frequent</td>\n",
       "      <td>mean</td>\n",
       "      <td>30</td>\n",
       "      <td>25</td>\n",
       "      <td>{'preprocessor__cat__imputer__strategy': 'most...</td>\n",
       "      <td>0.978053</td>\n",
       "      <td>0.982347</td>\n",
       "      <td>0.985846</td>\n",
       "      <td>0.986164</td>\n",
       "      <td>0.988073</td>\n",
       "      <td>0.984097</td>\n",
       "      <td>0.003542</td>\n",
       "      <td>9</td>\n",
       "    </tr>\n",
       "    <tr>\n",
       "      <th>7</th>\n",
       "      <td>2.203085</td>\n",
       "      <td>0.024071</td>\n",
       "      <td>0.096615</td>\n",
       "      <td>0.001330</td>\n",
       "      <td>most_frequent</td>\n",
       "      <td>mean</td>\n",
       "      <td>30</td>\n",
       "      <td>50</td>\n",
       "      <td>{'preprocessor__cat__imputer__strategy': 'most...</td>\n",
       "      <td>0.982029</td>\n",
       "      <td>0.984733</td>\n",
       "      <td>0.989504</td>\n",
       "      <td>0.988709</td>\n",
       "      <td>0.989822</td>\n",
       "      <td>0.986959</td>\n",
       "      <td>0.003066</td>\n",
       "      <td>5</td>\n",
       "    </tr>\n",
       "    <tr>\n",
       "      <th>8</th>\n",
       "      <td>3.552252</td>\n",
       "      <td>0.246918</td>\n",
       "      <td>0.166139</td>\n",
       "      <td>0.060177</td>\n",
       "      <td>most_frequent</td>\n",
       "      <td>mean</td>\n",
       "      <td>30</td>\n",
       "      <td>75</td>\n",
       "      <td>{'preprocessor__cat__imputer__strategy': 'most...</td>\n",
       "      <td>0.981870</td>\n",
       "      <td>0.984574</td>\n",
       "      <td>0.990617</td>\n",
       "      <td>0.988550</td>\n",
       "      <td>0.989822</td>\n",
       "      <td>0.987087</td>\n",
       "      <td>0.003335</td>\n",
       "      <td>1</td>\n",
       "    </tr>\n",
       "    <tr>\n",
       "      <th>9</th>\n",
       "      <td>1.211792</td>\n",
       "      <td>0.120848</td>\n",
       "      <td>0.062824</td>\n",
       "      <td>0.003838</td>\n",
       "      <td>most_frequent</td>\n",
       "      <td>mean</td>\n",
       "      <td>40</td>\n",
       "      <td>25</td>\n",
       "      <td>{'preprocessor__cat__imputer__strategy': 'most...</td>\n",
       "      <td>0.978531</td>\n",
       "      <td>0.981870</td>\n",
       "      <td>0.985687</td>\n",
       "      <td>0.985369</td>\n",
       "      <td>0.986641</td>\n",
       "      <td>0.983620</td>\n",
       "      <td>0.003014</td>\n",
       "      <td>11</td>\n",
       "    </tr>\n",
       "  </tbody>\n",
       "</table>\n",
       "</div>"
      ],
      "text/plain": [
       "   mean_fit_time  std_fit_time  mean_score_time  std_score_time  \\\n",
       "0       0.915382      0.035052         0.048453        0.001304   \n",
       "1       1.573038      0.015989         0.072720        0.001522   \n",
       "2       2.320980      0.043292         0.096176        0.000585   \n",
       "3       1.148391      0.032429         0.062023        0.004002   \n",
       "4       2.153726      0.029073         0.095291        0.002186   \n",
       "5       3.076004      0.015757         0.130076        0.003533   \n",
       "6       1.136111      0.016895         0.062432        0.003098   \n",
       "7       2.203085      0.024071         0.096615        0.001330   \n",
       "8       3.552252      0.246918         0.166139        0.060177   \n",
       "9       1.211792      0.120848         0.062824        0.003838   \n",
       "\n",
       "  param_preprocessor__cat__imputer__strategy  \\\n",
       "0                              most_frequent   \n",
       "1                              most_frequent   \n",
       "2                              most_frequent   \n",
       "3                              most_frequent   \n",
       "4                              most_frequent   \n",
       "5                              most_frequent   \n",
       "6                              most_frequent   \n",
       "7                              most_frequent   \n",
       "8                              most_frequent   \n",
       "9                              most_frequent   \n",
       "\n",
       "  param_preprocessor__num__strategy param_randomforestclassifier__max_depth  \\\n",
       "0                              mean                                      10   \n",
       "1                              mean                                      10   \n",
       "2                              mean                                      10   \n",
       "3                              mean                                      20   \n",
       "4                              mean                                      20   \n",
       "5                              mean                                      20   \n",
       "6                              mean                                      30   \n",
       "7                              mean                                      30   \n",
       "8                              mean                                      30   \n",
       "9                              mean                                      40   \n",
       "\n",
       "  param_randomforestclassifier__n_estimators  \\\n",
       "0                                         25   \n",
       "1                                         50   \n",
       "2                                         75   \n",
       "3                                         25   \n",
       "4                                         50   \n",
       "5                                         75   \n",
       "6                                         25   \n",
       "7                                         50   \n",
       "8                                         75   \n",
       "9                                         25   \n",
       "\n",
       "                                              params  split0_test_score  \\\n",
       "0  {'preprocessor__cat__imputer__strategy': 'most...           0.872615   \n",
       "1  {'preprocessor__cat__imputer__strategy': 'most...           0.871978   \n",
       "2  {'preprocessor__cat__imputer__strategy': 'most...           0.873728   \n",
       "3  {'preprocessor__cat__imputer__strategy': 'most...           0.974714   \n",
       "4  {'preprocessor__cat__imputer__strategy': 'most...           0.976304   \n",
       "5  {'preprocessor__cat__imputer__strategy': 'most...           0.975191   \n",
       "6  {'preprocessor__cat__imputer__strategy': 'most...           0.978053   \n",
       "7  {'preprocessor__cat__imputer__strategy': 'most...           0.982029   \n",
       "8  {'preprocessor__cat__imputer__strategy': 'most...           0.981870   \n",
       "9  {'preprocessor__cat__imputer__strategy': 'most...           0.978531   \n",
       "\n",
       "   split1_test_score  split2_test_score  split3_test_score  split4_test_score  \\\n",
       "0           0.879135           0.873410           0.871183           0.880089   \n",
       "1           0.880884           0.873569           0.871501           0.880725   \n",
       "2           0.880566           0.871342           0.870388           0.879453   \n",
       "3           0.974714           0.977099           0.979644           0.983779   \n",
       "4           0.978053           0.981552           0.982824           0.983779   \n",
       "5           0.976940           0.982983           0.982983           0.984733   \n",
       "6           0.982347           0.985846           0.986164           0.988073   \n",
       "7           0.984733           0.989504           0.988709           0.989822   \n",
       "8           0.984574           0.990617           0.988550           0.989822   \n",
       "9           0.981870           0.985687           0.985369           0.986641   \n",
       "\n",
       "   mean_test_score  std_test_score  rank_test_score  \n",
       "0         0.875286        0.003616               21  \n",
       "1         0.875732        0.004199               19  \n",
       "2         0.875095        0.004172               23  \n",
       "3         0.977990        0.003421               17  \n",
       "4         0.980503        0.002858               15  \n",
       "5         0.980566        0.003771               13  \n",
       "6         0.984097        0.003542                9  \n",
       "7         0.986959        0.003066                5  \n",
       "8         0.987087        0.003335                1  \n",
       "9         0.983620        0.003014               11  "
      ]
     },
     "execution_count": 18,
     "metadata": {},
     "output_type": "execute_result"
    }
   ],
   "source": [
    "#the cross-validation result\n",
    "cv_results = pd.DataFrame(model.cv_results_)\n",
    "cv_results.head(10)\n"
   ]
  },
  {
   "cell_type": "code",
   "execution_count": 19,
   "id": "923f19fe",
   "metadata": {
    "execution": {
     "iopub.execute_input": "2025-01-02T16:04:30.575083Z",
     "iopub.status.busy": "2025-01-02T16:04:30.574680Z",
     "iopub.status.idle": "2025-01-02T16:04:30.872115Z",
     "shell.execute_reply": "2025-01-02T16:04:30.870883Z"
    },
    "papermill": {
     "duration": 0.317257,
     "end_time": "2025-01-02T16:04:30.873890",
     "exception": false,
     "start_time": "2025-01-02T16:04:30.556633",
     "status": "completed"
    },
    "tags": []
   },
   "outputs": [
    {
     "data": {
      "text/plain": [
       "Text(0.5, 1.0, \"['Training Time vs Estimators (Max depth=10)']\")"
      ]
     },
     "execution_count": 19,
     "metadata": {},
     "output_type": "execute_result"
    },
    {
     "data": {
      "image/png": "[encoded data removed]",
      "text/plain": [
       "<Figure size 640x480 with 1 Axes>"
      ]
     },
     "metadata": {},
     "output_type": "display_data"
    }
   ],
   "source": [
    "#Create Mask\n",
    "mask= cv_results[\"param_randomforestclassifier__max_depth\"]==10\n",
    "\n",
    "#plot fit time vs n_estimators\n",
    "plt.plot(\n",
    "    cv_results[mask][\"param_randomforestclassifier__n_estimators\"],\n",
    "    cv_results[mask][\"mean_fit_time\"]\n",
    ")\n",
    "\n",
    "#Label Axes\n",
    "plt.xlabel(\"Number of Estimators\")\n",
    "plt.ylabel(\"Mean fit Times [seconds]\")\n",
    "plt.title([\"Training Time vs Estimators (Max depth=10)\"])"
   ]
  },
  {
   "cell_type": "code",
   "execution_count": 20,
   "id": "04b4cd43",
   "metadata": {
    "execution": {
     "iopub.execute_input": "2025-01-02T16:04:30.912875Z",
     "iopub.status.busy": "2025-01-02T16:04:30.912520Z",
     "iopub.status.idle": "2025-01-02T16:04:31.179390Z",
     "shell.execute_reply": "2025-01-02T16:04:31.178266Z"
    },
    "papermill": {
     "duration": 0.288814,
     "end_time": "2025-01-02T16:04:31.181384",
     "exception": false,
     "start_time": "2025-01-02T16:04:30.892570",
     "status": "completed"
    },
    "tags": []
   },
   "outputs": [
    {
     "data": {
      "text/plain": [
       "Text(0.5, 1.0, \"['Training Time vs Max Depth (n_estimators=25)']\")"
      ]
     },
     "execution_count": 20,
     "metadata": {},
     "output_type": "execute_result"
    },
    {
     "data": {
      "image/png": "[encoded data removed]",
      "text/plain": [
       "<Figure size 640x480 with 1 Axes>"
      ]
     },
     "metadata": {},
     "output_type": "display_data"
    }
   ],
   "source": [
    "#Create Mask\n",
    "mask= cv_results[\"param_randomforestclassifier__n_estimators\"]==25\n",
    "\n",
    "#plot fit time vs n_estimators\n",
    "plt.plot(\n",
    "    cv_results[mask][\"param_randomforestclassifier__max_depth\"],\n",
    "    cv_results[mask][\"mean_fit_time\"]\n",
    ")\n",
    "\n",
    "#Label Axes\n",
    "plt.xlabel(\"Max depth\")\n",
    "plt.ylabel(\"Mean fit Times [seconds]\")\n",
    "plt.title([\"Training Time vs Max Depth (n_estimators=25)\"])"
   ]
  },
  {
   "cell_type": "code",
   "execution_count": 21,
   "id": "6508f3d9",
   "metadata": {
    "execution": {
     "iopub.execute_input": "2025-01-02T16:04:31.221961Z",
     "iopub.status.busy": "2025-01-02T16:04:31.221606Z",
     "iopub.status.idle": "2025-01-02T16:04:31.227531Z",
     "shell.execute_reply": "2025-01-02T16:04:31.226471Z"
    },
    "papermill": {
     "duration": 0.028379,
     "end_time": "2025-01-02T16:04:31.229264",
     "exception": false,
     "start_time": "2025-01-02T16:04:31.200885",
     "status": "completed"
    },
    "tags": []
   },
   "outputs": [
    {
     "data": {
      "text/plain": [
       "{'preprocessor__cat__imputer__strategy': 'most_frequent',\n",
       " 'preprocessor__num__strategy': 'mean',\n",
       " 'randomforestclassifier__max_depth': 30,\n",
       " 'randomforestclassifier__n_estimators': 75}"
      ]
     },
     "execution_count": 21,
     "metadata": {},
     "output_type": "execute_result"
    }
   ],
   "source": [
    "# Extract best hyperparameters\n",
    "model.best_params_\n"
   ]
  },
  {
   "cell_type": "markdown",
   "id": "2be5c10a",
   "metadata": {
    "papermill": {
     "duration": 0.019283,
     "end_time": "2025-01-02T16:04:31.268367",
     "exception": false,
     "start_time": "2025-01-02T16:04:31.249084",
     "status": "completed"
    },
    "tags": []
   },
   "source": [
    "**Evaluate The Model**"
   ]
  },
  {
   "cell_type": "code",
   "execution_count": 22,
   "id": "5f3d5de5",
   "metadata": {
    "execution": {
     "iopub.execute_input": "2025-01-02T16:04:31.308734Z",
     "iopub.status.busy": "2025-01-02T16:04:31.308380Z",
     "iopub.status.idle": "2025-01-02T16:04:31.894629Z",
     "shell.execute_reply": "2025-01-02T16:04:31.893129Z"
    },
    "papermill": {
     "duration": 0.6086,
     "end_time": "2025-01-02T16:04:31.896614",
     "exception": false,
     "start_time": "2025-01-02T16:04:31.288014",
     "status": "completed"
    },
    "tags": []
   },
   "outputs": [
    {
     "name": "stdout",
     "output_type": "stream",
     "text": [
      "Training Accuracy: 1.0\n",
      "Test Accuracy: 0.926\n"
     ]
    }
   ],
   "source": [
    "#Calculate the training and test accuracy scores for model.\n",
    "acc_train = model.score(X_train_over, y_train_over)\n",
    "acc_test = model.score(X_test, y_test)\n",
    "\n",
    "print(\"Training Accuracy:\", round(acc_train, 4))\n",
    "print(\"Test Accuracy:\", round(acc_test, 4))\n"
   ]
  },
  {
   "cell_type": "code",
   "execution_count": 23,
   "id": "db17eaec",
   "metadata": {
    "execution": {
     "iopub.execute_input": "2025-01-02T16:04:31.939685Z",
     "iopub.status.busy": "2025-01-02T16:04:31.939292Z",
     "iopub.status.idle": "2025-01-02T16:04:32.345827Z",
     "shell.execute_reply": "2025-01-02T16:04:32.344459Z"
    },
    "papermill": {
     "duration": 0.430355,
     "end_time": "2025-01-02T16:04:32.347729",
     "exception": false,
     "start_time": "2025-01-02T16:04:31.917374",
     "status": "completed"
    },
    "tags": []
   },
   "outputs": [
    {
     "data": {
      "image/png": "[encoded data removed]",
      "text/plain": [
       "<Figure size 640x480 with 2 Axes>"
      ]
     },
     "metadata": {},
     "output_type": "display_data"
    }
   ],
   "source": [
    "# Plot confusion matrix\n",
    "ConfusionMatrixDisplay.from_estimator(model, X_test, y_test);\n"
   ]
  },
  {
   "cell_type": "code",
   "execution_count": 24,
   "id": "f7db217b",
   "metadata": {
    "execution": {
     "iopub.execute_input": "2025-01-02T16:04:32.393110Z",
     "iopub.status.busy": "2025-01-02T16:04:32.392656Z",
     "iopub.status.idle": "2025-01-02T16:04:32.553668Z",
     "shell.execute_reply": "2025-01-02T16:04:32.552402Z"
    },
    "papermill": {
     "duration": 0.185929,
     "end_time": "2025-01-02T16:04:32.555509",
     "exception": false,
     "start_time": "2025-01-02T16:04:32.369580",
     "status": "completed"
    },
    "tags": []
   },
   "outputs": [
    {
     "name": "stdout",
     "output_type": "stream",
     "text": [
      "              precision    recall  f1-score   support\n",
      "\n",
      "           0       0.93      0.98      0.95      6715\n",
      "           1       0.92      0.72      0.81      1877\n",
      "\n",
      "    accuracy                           0.93      8592\n",
      "   macro avg       0.93      0.85      0.88      8592\n",
      "weighted avg       0.93      0.93      0.92      8592\n",
      "\n"
     ]
    }
   ],
   "source": [
    "#Train predictions\n",
    "y_pred = model.predict(X_test)\n",
    "# Print classification report\n",
    "print(classification_report(y_test, y_pred))\n"
   ]
  },
  {
   "cell_type": "code",
   "execution_count": 25,
   "id": "2e0dcb59",
   "metadata": {
    "execution": {
     "iopub.execute_input": "2025-01-02T16:04:32.598465Z",
     "iopub.status.busy": "2025-01-02T16:04:32.598124Z",
     "iopub.status.idle": "2025-01-02T16:04:32.976992Z",
     "shell.execute_reply": "2025-01-02T16:04:32.975804Z"
    },
    "papermill": {
     "duration": 0.402475,
     "end_time": "2025-01-02T16:04:32.978848",
     "exception": false,
     "start_time": "2025-01-02T16:04:32.576373",
     "status": "completed"
    },
    "tags": []
   },
   "outputs": [
    {
     "name": "stdout",
     "output_type": "stream",
     "text": [
      "AUC-ROC: 0.9263\n",
      "AUC-PR: 0.8738\n"
     ]
    },
    {
     "data": {
      "image/png": "[encoded data removed]",
      "text/plain": [
       "<Figure size 800x600 with 1 Axes>"
      ]
     },
     "metadata": {},
     "output_type": "display_data"
    }
   ],
   "source": [
    "y_prob = model.predict_proba(X_test)[:, 1]\n",
    "\n",
    "# AUC-ROC\n",
    "auc_roc = roc_auc_score(y_test, y_prob)\n",
    "print(f\"AUC-ROC: {auc_roc:.4f}\")\n",
    "\n",
    "# AUC-PR (Precision-Recall)\n",
    "auc_pr = average_precision_score(y_test, y_prob)\n",
    "print(f\"AUC-PR: {auc_pr:.4f}\")\n",
    "\n",
    "# ROC Curve\n",
    "fpr, tpr, _ = roc_curve(y_test, y_prob)\n",
    "plt.figure(figsize=(8, 6))\n",
    "plt.plot(fpr, tpr, color='blue', label=f'AUC-ROC = {auc_roc:.4f}')\n",
    "plt.plot([0, 1], [0, 1], color='gray', linestyle='--')  # Diagonal line for random classifier\n",
    "plt.xlabel('False Positive Rate')\n",
    "plt.ylabel('True Positive Rate')\n",
    "plt.title('ROC Curve')\n",
    "plt.legend(loc='lower right')\n",
    "plt.show()\n",
    "\n"
   ]
  },
  {
   "cell_type": "markdown",
   "id": "fa243736",
   "metadata": {
    "papermill": {
     "duration": 0.022179,
     "end_time": "2025-01-02T16:04:33.022993",
     "exception": false,
     "start_time": "2025-01-02T16:04:33.000814",
     "status": "completed"
    },
    "tags": []
   },
   "source": [
    "**2-Unsupervised Model**\n",
    "\n",
    "Kohonen's Self-Organizing Map (SOM) is an unsupervised machine learning algorithm used for dimensionality reduction, clustering, and data visualization. It is a type of artificial neural network that learns to map high-dimensional data into a lower-dimensional representation  preserving the topological relationships in the data."
   ]
  },
  {
   "cell_type": "code",
   "execution_count": 26,
   "id": "36eeb11b",
   "metadata": {
    "execution": {
     "iopub.execute_input": "2025-01-02T16:04:33.071010Z",
     "iopub.status.busy": "2025-01-02T16:04:33.070551Z",
     "iopub.status.idle": "2025-01-02T16:04:33.090177Z",
     "shell.execute_reply": "2025-01-02T16:04:33.088481Z"
    },
    "papermill": {
     "duration": 0.046379,
     "end_time": "2025-01-02T16:04:33.092256",
     "exception": false,
     "start_time": "2025-01-02T16:04:33.045877",
     "status": "completed"
    },
    "tags": []
   },
   "outputs": [
    {
     "name": "stdout",
     "output_type": "stream",
     "text": [
      "<class 'pandas.core.frame.DataFrame'>\n",
      "Index: 28638 entries, 0 to 32580\n",
      "Data columns (total 12 columns):\n",
      " #   Column                      Non-Null Count  Dtype  \n",
      "---  ------                      --------------  -----  \n",
      " 0   person_age                  28638 non-null  int64  \n",
      " 1   person_income               28638 non-null  int64  \n",
      " 2   person_home_ownership       28638 non-null  object \n",
      " 3   person_emp_length           28638 non-null  float64\n",
      " 4   loan_intent                 28638 non-null  object \n",
      " 5   loan_grade                  28638 non-null  object \n",
      " 6   loan_amnt                   28638 non-null  int64  \n",
      " 7   loan_int_rate               28638 non-null  float64\n",
      " 8   loan_status                 28638 non-null  int64  \n",
      " 9   loan_percent_income         28638 non-null  float64\n",
      " 10  cb_person_default_on_file   28638 non-null  object \n",
      " 11  cb_person_cred_hist_length  28638 non-null  int64  \n",
      "dtypes: float64(3), int64(5), object(4)\n",
      "memory usage: 2.8+ MB\n"
     ]
    }
   ],
   "source": [
    "df1=df.copy()\n",
    "df1.info()"
   ]
  },
  {
   "cell_type": "markdown",
   "id": "f0996560",
   "metadata": {
    "papermill": {
     "duration": 0.021023,
     "end_time": "2025-01-02T16:04:33.134808",
     "exception": false,
     "start_time": "2025-01-02T16:04:33.113785",
     "status": "completed"
    },
    "tags": []
   },
   "source": [
    "Machine learning algorithms, including the Self-Organizing Map (SOM), typically require numerical data. However, some of your featuresare categorical variables .\n",
    "So we need to convert these text labels into numerical data, we use Label Encoding, which assigns a unique integer to each category."
   ]
  },
  {
   "cell_type": "code",
   "execution_count": 27,
   "id": "7c9d0675",
   "metadata": {
    "execution": {
     "iopub.execute_input": "2025-01-02T16:04:33.179718Z",
     "iopub.status.busy": "2025-01-02T16:04:33.179346Z",
     "iopub.status.idle": "2025-01-02T16:04:33.206010Z",
     "shell.execute_reply": "2025-01-02T16:04:33.204776Z"
    },
    "papermill": {
     "duration": 0.051808,
     "end_time": "2025-01-02T16:04:33.207885",
     "exception": false,
     "start_time": "2025-01-02T16:04:33.156077",
     "status": "completed"
    },
    "tags": []
   },
   "outputs": [],
   "source": [
    "# Encode categorical variables\n",
    "label_encoders = {}\n",
    "categorical_columns = ['person_home_ownership', 'loan_intent', 'loan_grade', 'cb_person_default_on_file']\n",
    "for col in categorical_columns:\n",
    "    le = LabelEncoder()\n",
    "    df1[col] = le.fit_transform(df1[col]) \n",
    "    label_encoders[col] = le  "
   ]
  },
  {
   "cell_type": "markdown",
   "id": "bebfa7f9",
   "metadata": {
    "papermill": {
     "duration": 0.021522,
     "end_time": "2025-01-02T16:04:33.250990",
     "exception": false,
     "start_time": "2025-01-02T16:04:33.229468",
     "status": "completed"
    },
    "tags": []
   },
   "source": [
    "Now to numerical data, bringing all features into the same scale, which helps improve the performance and stability of machine learning models."
   ]
  },
  {
   "cell_type": "code",
   "execution_count": 28,
   "id": "bf8daf1a",
   "metadata": {
    "execution": {
     "iopub.execute_input": "2025-01-02T16:04:33.296271Z",
     "iopub.status.busy": "2025-01-02T16:04:33.295679Z",
     "iopub.status.idle": "2025-01-02T16:04:33.312445Z",
     "shell.execute_reply": "2025-01-02T16:04:33.311148Z"
    },
    "papermill": {
     "duration": 0.041497,
     "end_time": "2025-01-02T16:04:33.314442",
     "exception": false,
     "start_time": "2025-01-02T16:04:33.272945",
     "status": "completed"
    },
    "tags": []
   },
   "outputs": [],
   "source": [
    "# 2.3: Normalize numerical features (standard scaling)\n",
    "scaler = StandardScaler()\n",
    "numerical_columns = ['person_age', 'person_income', 'person_emp_length', 'loan_amnt', \n",
    "                     'loan_int_rate', 'loan_percent_income', 'cb_person_cred_hist_length']\n",
    "\n",
    "df1[numerical_columns] = scaler.fit_transform(df1[numerical_columns])  "
   ]
  },
  {
   "cell_type": "code",
   "execution_count": 29,
   "id": "80826a15",
   "metadata": {
    "execution": {
     "iopub.execute_input": "2025-01-02T16:04:33.359871Z",
     "iopub.status.busy": "2025-01-02T16:04:33.359468Z",
     "iopub.status.idle": "2025-01-02T16:04:33.370457Z",
     "shell.execute_reply": "2025-01-02T16:04:33.369158Z"
    },
    "papermill": {
     "duration": 0.036697,
     "end_time": "2025-01-02T16:04:33.372604",
     "exception": false,
     "start_time": "2025-01-02T16:04:33.335907",
     "status": "completed"
    },
    "tags": []
   },
   "outputs": [],
   "source": [
    "# Prepare features (X) and target variable (y)\n",
    "\n",
    "X = df1.drop('loan_status', axis=1).values  # Features (drop 'loan_status' from df1)\n",
    "y = df1['loan_status'].values  # Target variable (loan_status)"
   ]
  },
  {
   "cell_type": "code",
   "execution_count": 30,
   "id": "4f2d8e7e",
   "metadata": {
    "execution": {
     "iopub.execute_input": "2025-01-02T16:04:33.419404Z",
     "iopub.status.busy": "2025-01-02T16:04:33.418957Z",
     "iopub.status.idle": "2025-01-02T16:04:33.434230Z",
     "shell.execute_reply": "2025-01-02T16:04:33.432998Z"
    },
    "papermill": {
     "duration": 0.041826,
     "end_time": "2025-01-02T16:04:33.436281",
     "exception": false,
     "start_time": "2025-01-02T16:04:33.394455",
     "status": "completed"
    },
    "tags": []
   },
   "outputs": [
    {
     "name": "stdout",
     "output_type": "stream",
     "text": [
      "Training data shape: (20046, 11)\n",
      "Validation data shape: (8592, 11)\n",
      "Training set loan_status distribution:\n",
      "0    0.784196\n",
      "1    0.215804\n",
      "Name: proportion, dtype: float64\n",
      "Validation set loan_status distribution:\n",
      "0    0.781541\n",
      "1    0.218459\n",
      "Name: proportion, dtype: float64\n"
     ]
    }
   ],
   "source": [
    "#Split the data into training and validation sets\n",
    "X_train, X_val, y_train, y_val = train_test_split(X, y, test_size=0.3, random_state=42)\n",
    "\n",
    "print(f\"Training data shape: {X_train.shape}\")\n",
    "print(f\"Validation data shape: {X_val.shape}\")\n",
    "\n",
    "# To verify the balance of loan_status in both training and validation sets\n",
    "print(f\"Training set loan_status distribution:\\n{pd.Series(y_train).value_counts(normalize=True)}\")\n",
    "print(f\"Validation set loan_status distribution:\\n{pd.Series(y_val).value_counts(normalize=True)}\")\n"
   ]
  },
  {
   "cell_type": "code",
   "execution_count": 31,
   "id": "063d894b",
   "metadata": {
    "execution": {
     "iopub.execute_input": "2025-01-02T16:04:33.482076Z",
     "iopub.status.busy": "2025-01-02T16:04:33.481624Z",
     "iopub.status.idle": "2025-01-02T16:04:41.749564Z",
     "shell.execute_reply": "2025-01-02T16:04:41.748130Z"
    },
    "papermill": {
     "duration": 8.293453,
     "end_time": "2025-01-02T16:04:41.751650",
     "exception": false,
     "start_time": "2025-01-02T16:04:33.458197",
     "status": "completed"
    },
    "tags": []
   },
   "outputs": [
    {
     "name": "stdout",
     "output_type": "stream",
     "text": [
      "Collecting minisom\r\n",
      "  Downloading MiniSom-2.3.3.tar.gz (11 kB)\r\n",
      "  Preparing metadata (setup.py) ... \u001b[?25l\u001b[?25hdone\r\n",
      "Building wheels for collected packages: minisom\r\n",
      "  Building wheel for minisom (setup.py) ... \u001b[?25l\u001b[?25hdone\r\n",
      "  Created wheel for minisom: filename=MiniSom-2.3.3-py3-none-any.whl size=11706 sha256=ca04dd994e1a761633a31d0e6f69cc61e1080eb2244faa0a374d68a2f8c7e7f0\r\n",
      "  Stored in directory: /root/.cache/pip/wheels/96/98/a5/52dee3e8ed1dbfc4d77e4da41b6d89dd7ab9ead1b921e766f8\r\n",
      "Successfully built minisom\r\n",
      "Installing collected packages: minisom\r\n",
      "Successfully installed minisom-2.3.3\r\n"
     ]
    }
   ],
   "source": [
    "!pip install minisom\n"
   ]
  },
  {
   "cell_type": "code",
   "execution_count": 32,
   "id": "7ecf8034",
   "metadata": {
    "execution": {
     "iopub.execute_input": "2025-01-02T16:04:41.798653Z",
     "iopub.status.busy": "2025-01-02T16:04:41.798286Z",
     "iopub.status.idle": "2025-01-02T16:04:41.833382Z",
     "shell.execute_reply": "2025-01-02T16:04:41.832262Z"
    },
    "papermill": {
     "duration": 0.061678,
     "end_time": "2025-01-02T16:04:41.835512",
     "exception": false,
     "start_time": "2025-01-02T16:04:41.773834",
     "status": "completed"
    },
    "tags": []
   },
   "outputs": [],
   "source": [
    "from minisom import MiniSom\n"
   ]
  },
  {
   "cell_type": "code",
   "execution_count": 33,
   "id": "9484b276",
   "metadata": {
    "execution": {
     "iopub.execute_input": "2025-01-02T16:04:41.880987Z",
     "iopub.status.busy": "2025-01-02T16:04:41.880609Z",
     "iopub.status.idle": "2025-01-02T16:04:41.886284Z",
     "shell.execute_reply": "2025-01-02T16:04:41.885238Z"
    },
    "papermill": {
     "duration": 0.030059,
     "end_time": "2025-01-02T16:04:41.887929",
     "exception": false,
     "start_time": "2025-01-02T16:04:41.857870",
     "status": "completed"
    },
    "tags": []
   },
   "outputs": [],
   "source": [
    "#Initialize and train SOM on the training data\n",
    "som_shape = (10, 10)  # SOM grid dimensions (modifiable)\n",
    "som = MiniSom(som_shape[0], som_shape[1], X_train.shape[1], sigma=1.0, learning_rate=0.5)\n"
   ]
  },
  {
   "cell_type": "code",
   "execution_count": 34,
   "id": "2696194f",
   "metadata": {
    "execution": {
     "iopub.execute_input": "2025-01-02T16:04:41.934861Z",
     "iopub.status.busy": "2025-01-02T16:04:41.934441Z",
     "iopub.status.idle": "2025-01-02T16:04:42.003550Z",
     "shell.execute_reply": "2025-01-02T16:04:42.002392Z"
    },
    "papermill": {
     "duration": 0.094777,
     "end_time": "2025-01-02T16:04:42.005452",
     "exception": false,
     "start_time": "2025-01-02T16:04:41.910675",
     "status": "completed"
    },
    "tags": []
   },
   "outputs": [
    {
     "name": "stdout",
     "output_type": "stream",
     "text": [
      "Training SOM...\n",
      "SOM training completed.\n"
     ]
    }
   ],
   "source": [
    "# Initialize weights and train SOM on training data\n",
    "som.random_weights_init(X_train)\n",
    "print(\"Training SOM...\")\n",
    "som.train_random(X_train, num_iteration=1000)  \n",
    "print(\"SOM training completed.\")"
   ]
  },
  {
   "cell_type": "code",
   "execution_count": 35,
   "id": "9a3f3153",
   "metadata": {
    "execution": {
     "iopub.execute_input": "2025-01-02T16:04:42.050635Z",
     "iopub.status.busy": "2025-01-02T16:04:42.050281Z",
     "iopub.status.idle": "2025-01-02T16:05:11.960205Z",
     "shell.execute_reply": "2025-01-02T16:05:11.959094Z"
    },
    "papermill": {
     "duration": 29.934587,
     "end_time": "2025-01-02T16:05:11.962095",
     "exception": false,
     "start_time": "2025-01-02T16:04:42.027508",
     "status": "completed"
    },
    "tags": []
   },
   "outputs": [
    {
     "data": {
      "image/png": "[encoded data removed]",
      "text/plain": [
       "<Figure size 1000x1000 with 1 Axes>"
      ]
     },
     "metadata": {},
     "output_type": "display_data"
    }
   ],
   "source": [
    "#Visualize the SOM\n",
    "plt.figure(figsize=(10, 10))\n",
    "for i, x in enumerate(X_train):\n",
    "    w = som.winner(x) \n",
    "    plt.text(w[0] + 0.5, w[1] + 0.5, str(y_train[i]),\n",
    "             color='red' if y_train[i] == 1 else 'blue', fontsize=8)\n",
    "\n",
    "plt.title(\"Self-Organizing Map Clusters (Training Data)\")\n",
    "plt.xlim([0, som_shape[0]])\n",
    "plt.ylim([0, som_shape[1]])\n",
    "plt.grid()\n",
    "plt.show()"
   ]
  },
  {
   "cell_type": "code",
   "execution_count": 36,
   "id": "25be0f8f",
   "metadata": {
    "execution": {
     "iopub.execute_input": "2025-01-02T16:05:12.010471Z",
     "iopub.status.busy": "2025-01-02T16:05:12.010087Z",
     "iopub.status.idle": "2025-01-02T16:05:12.169601Z",
     "shell.execute_reply": "2025-01-02T16:05:12.168469Z"
    },
    "papermill": {
     "duration": 0.186359,
     "end_time": "2025-01-02T16:05:12.171698",
     "exception": false,
     "start_time": "2025-01-02T16:05:11.985339",
     "status": "completed"
    },
    "tags": []
   },
   "outputs": [],
   "source": [
    "#Assign clusters to the validation data\n",
    "val_clusters = np.array([som.winner(x) for x in X_val])\n"
   ]
  },
  {
   "cell_type": "code",
   "execution_count": 37,
   "id": "22b5c880",
   "metadata": {
    "execution": {
     "iopub.execute_input": "2025-01-02T16:05:12.219160Z",
     "iopub.status.busy": "2025-01-02T16:05:12.218762Z",
     "iopub.status.idle": "2025-01-02T16:05:12.475267Z",
     "shell.execute_reply": "2025-01-02T16:05:12.474128Z"
    },
    "papermill": {
     "duration": 0.282738,
     "end_time": "2025-01-02T16:05:12.477235",
     "exception": false,
     "start_time": "2025-01-02T16:05:12.194497",
     "status": "completed"
    },
    "tags": []
   },
   "outputs": [],
   "source": [
    "#DataFrame with clusters and validation labels\n",
    "cluster_validation_df = pd.DataFrame({'cluster': [str(cluster) for cluster in val_clusters], 'loan_status': y_val})"
   ]
  },
  {
   "cell_type": "code",
   "execution_count": 38,
   "id": "926f0272",
   "metadata": {
    "execution": {
     "iopub.execute_input": "2025-01-02T16:05:12.523798Z",
     "iopub.status.busy": "2025-01-02T16:05:12.523457Z",
     "iopub.status.idle": "2025-01-02T16:05:12.532446Z",
     "shell.execute_reply": "2025-01-02T16:05:12.531298Z"
    },
    "papermill": {
     "duration": 0.034337,
     "end_time": "2025-01-02T16:05:12.534163",
     "exception": false,
     "start_time": "2025-01-02T16:05:12.499826",
     "status": "completed"
    },
    "tags": []
   },
   "outputs": [
    {
     "data": {
      "text/html": [
       "<div>\n",
       "<style scoped>\n",
       "    .dataframe tbody tr th:only-of-type {\n",
       "        vertical-align: middle;\n",
       "    }\n",
       "\n",
       "    .dataframe tbody tr th {\n",
       "        vertical-align: top;\n",
       "    }\n",
       "\n",
       "    .dataframe thead th {\n",
       "        text-align: right;\n",
       "    }\n",
       "</style>\n",
       "<table border=\"1\" class=\"dataframe\">\n",
       "  <thead>\n",
       "    <tr style=\"text-align: right;\">\n",
       "      <th></th>\n",
       "      <th>cluster</th>\n",
       "      <th>loan_status</th>\n",
       "    </tr>\n",
       "  </thead>\n",
       "  <tbody>\n",
       "    <tr>\n",
       "      <th>0</th>\n",
       "      <td>[6 4]</td>\n",
       "      <td>0</td>\n",
       "    </tr>\n",
       "    <tr>\n",
       "      <th>1</th>\n",
       "      <td>[2 1]</td>\n",
       "      <td>1</td>\n",
       "    </tr>\n",
       "    <tr>\n",
       "      <th>2</th>\n",
       "      <td>[7 0]</td>\n",
       "      <td>0</td>\n",
       "    </tr>\n",
       "    <tr>\n",
       "      <th>3</th>\n",
       "      <td>[5 2]</td>\n",
       "      <td>1</td>\n",
       "    </tr>\n",
       "    <tr>\n",
       "      <th>4</th>\n",
       "      <td>[4 0]</td>\n",
       "      <td>1</td>\n",
       "    </tr>\n",
       "  </tbody>\n",
       "</table>\n",
       "</div>"
      ],
      "text/plain": [
       "  cluster  loan_status\n",
       "0   [6 4]            0\n",
       "1   [2 1]            1\n",
       "2   [7 0]            0\n",
       "3   [5 2]            1\n",
       "4   [4 0]            1"
      ]
     },
     "execution_count": 38,
     "metadata": {},
     "output_type": "execute_result"
    }
   ],
   "source": [
    "cluster_validation_df.head()"
   ]
  },
  {
   "cell_type": "code",
   "execution_count": 39,
   "id": "e83681be",
   "metadata": {
    "execution": {
     "iopub.execute_input": "2025-01-02T16:05:12.582267Z",
     "iopub.status.busy": "2025-01-02T16:05:12.581809Z",
     "iopub.status.idle": "2025-01-02T16:05:12.601588Z",
     "shell.execute_reply": "2025-01-02T16:05:12.600457Z"
    },
    "papermill": {
     "duration": 0.045507,
     "end_time": "2025-01-02T16:05:12.603546",
     "exception": false,
     "start_time": "2025-01-02T16:05:12.558039",
     "status": "completed"
    },
    "tags": []
   },
   "outputs": [
    {
     "name": "stdout",
     "output_type": "stream",
     "text": [
      "Cluster Validation Summary:\n",
      " loan_status         0         1\n",
      "cluster                        \n",
      "[0 0]        0.798658  0.201342\n",
      "[0 1]        0.620000  0.380000\n",
      "[0 2]        0.870968  0.129032\n",
      "[0 3]        0.920000  0.080000\n",
      "[0 4]        0.956522  0.043478\n",
      "...               ...       ...\n",
      "[9 5]        0.697248  0.302752\n",
      "[9 6]        0.331361  0.668639\n",
      "[9 7]        0.568966  0.431034\n",
      "[9 8]        0.185185  0.814815\n",
      "[9 9]        0.110092  0.889908\n",
      "\n",
      "[100 rows x 2 columns]\n"
     ]
    }
   ],
   "source": [
    "#Evaluate clusters in the validation set\n",
    "cluster_summary = cluster_validation_df.groupby('cluster')['loan_status'].value_counts(normalize=True).unstack()\n",
    "print(\"Cluster Validation Summary:\\n\", cluster_summary)"
   ]
  },
  {
   "cell_type": "code",
   "execution_count": 40,
   "id": "573d0580",
   "metadata": {
    "execution": {
     "iopub.execute_input": "2025-01-02T16:05:12.650903Z",
     "iopub.status.busy": "2025-01-02T16:05:12.650536Z",
     "iopub.status.idle": "2025-01-02T16:05:12.685019Z",
     "shell.execute_reply": "2025-01-02T16:05:12.683940Z"
    },
    "papermill": {
     "duration": 0.06048,
     "end_time": "2025-01-02T16:05:12.687018",
     "exception": false,
     "start_time": "2025-01-02T16:05:12.626538",
     "status": "completed"
    },
    "tags": []
   },
   "outputs": [],
   "source": [
    "# Assign the most common loan_status in each cluster as the cluster label\n",
    "cluster_labels = cluster_validation_df.groupby('cluster')['loan_status'].agg(lambda x: x.value_counts().idxmax())\n",
    "\n",
    "# Map the cluster labels to the validation data\n",
    "cluster_validation_df['predicted_status'] = cluster_validation_df['cluster'].map(cluster_labels)\n"
   ]
  },
  {
   "cell_type": "code",
   "execution_count": 41,
   "id": "ea4188fe",
   "metadata": {
    "execution": {
     "iopub.execute_input": "2025-01-02T16:05:12.735218Z",
     "iopub.status.busy": "2025-01-02T16:05:12.734814Z",
     "iopub.status.idle": "2025-01-02T16:05:12.739422Z",
     "shell.execute_reply": "2025-01-02T16:05:12.738339Z"
    },
    "papermill": {
     "duration": 0.031241,
     "end_time": "2025-01-02T16:05:12.741291",
     "exception": false,
     "start_time": "2025-01-02T16:05:12.710050",
     "status": "completed"
    },
    "tags": []
   },
   "outputs": [],
   "source": [
    "#  actual and predicted labels\n",
    "y_true = cluster_validation_df['loan_status']\n",
    "y_pred = cluster_validation_df['predicted_status']"
   ]
  },
  {
   "cell_type": "code",
   "execution_count": 42,
   "id": "a5079299",
   "metadata": {
    "execution": {
     "iopub.execute_input": "2025-01-02T16:05:12.789239Z",
     "iopub.status.busy": "2025-01-02T16:05:12.788806Z",
     "iopub.status.idle": "2025-01-02T16:05:12.812587Z",
     "shell.execute_reply": "2025-01-02T16:05:12.811448Z"
    },
    "papermill": {
     "duration": 0.049942,
     "end_time": "2025-01-02T16:05:12.814445",
     "exception": false,
     "start_time": "2025-01-02T16:05:12.764503",
     "status": "completed"
    },
    "tags": []
   },
   "outputs": [
    {
     "name": "stdout",
     "output_type": "stream",
     "text": [
      "Accuracy: 0.83\n",
      "Precision: 0.75\n",
      "Recall: 0.35\n",
      "F1 Score: 0.48\n"
     ]
    }
   ],
   "source": [
    "# metrics\n",
    "accuracy = accuracy_score(y_true, y_pred)\n",
    "precision = precision_score(y_true, y_pred, average='binary') \n",
    "recall = recall_score(y_true, y_pred, average='binary')\n",
    "f1 = f1_score(y_true, y_pred, average='binary')\n",
    "print(f\"Accuracy: {accuracy:.2f}\")\n",
    "print(f\"Precision: {precision:.2f}\")\n",
    "print(f\"Recall: {recall:.2f}\")\n",
    "print(f\"F1 Score: {f1:.2f}\")"
   ]
  },
  {
   "cell_type": "code",
   "execution_count": 43,
   "id": "a1656a55",
   "metadata": {
    "execution": {
     "iopub.execute_input": "2025-01-02T16:05:12.864740Z",
     "iopub.status.busy": "2025-01-02T16:05:12.864372Z",
     "iopub.status.idle": "2025-01-02T16:05:12.872693Z",
     "shell.execute_reply": "2025-01-02T16:05:12.871436Z"
    },
    "papermill": {
     "duration": 0.035193,
     "end_time": "2025-01-02T16:05:12.874416",
     "exception": false,
     "start_time": "2025-01-02T16:05:12.839223",
     "status": "completed"
    },
    "tags": []
   },
   "outputs": [
    {
     "name": "stdout",
     "output_type": "stream",
     "text": [
      "0       0.044872\n",
      "1       0.579710\n",
      "2       0.065934\n",
      "3       0.113924\n",
      "4       0.421053\n",
      "          ...   \n",
      "8587    0.129032\n",
      "8588    0.873563\n",
      "8589    0.360465\n",
      "8590    0.065934\n",
      "8591    0.151261\n",
      "Name: cluster, Length: 8592, dtype: float64\n"
     ]
    }
   ],
   "source": [
    "probs = cluster_validation_df['cluster'].map(cluster_summary[1]) \n",
    "print(probs)"
   ]
  },
  {
   "cell_type": "code",
   "execution_count": 44,
   "id": "25d107b1",
   "metadata": {
    "execution": {
     "iopub.execute_input": "2025-01-02T16:05:12.922218Z",
     "iopub.status.busy": "2025-01-02T16:05:12.921798Z",
     "iopub.status.idle": "2025-01-02T16:05:12.927522Z",
     "shell.execute_reply": "2025-01-02T16:05:12.926310Z"
    },
    "papermill": {
     "duration": 0.031649,
     "end_time": "2025-01-02T16:05:12.929278",
     "exception": false,
     "start_time": "2025-01-02T16:05:12.897629",
     "status": "completed"
    },
    "tags": []
   },
   "outputs": [
    {
     "name": "stdout",
     "output_type": "stream",
     "text": [
      "0.21845903165735567\n"
     ]
    }
   ],
   "source": [
    "overall_default_rate = y_true.mean()\n",
    "print(overall_default_rate)"
   ]
  },
  {
   "cell_type": "code",
   "execution_count": 45,
   "id": "159c0e7b",
   "metadata": {
    "execution": {
     "iopub.execute_input": "2025-01-02T16:05:12.978357Z",
     "iopub.status.busy": "2025-01-02T16:05:12.977927Z",
     "iopub.status.idle": "2025-01-02T16:05:12.984517Z",
     "shell.execute_reply": "2025-01-02T16:05:12.983411Z"
    },
    "papermill": {
     "duration": 0.032753,
     "end_time": "2025-01-02T16:05:12.986366",
     "exception": false,
     "start_time": "2025-01-02T16:05:12.953613",
     "status": "completed"
    },
    "tags": []
   },
   "outputs": [],
   "source": [
    "# Map cluster probabilities and handle NaNs\n",
    "probs = cluster_validation_df['cluster'].map(cluster_summary[1])\n",
    "probs.fillna(overall_default_rate, inplace=True)"
   ]
  },
  {
   "cell_type": "code",
   "execution_count": 46,
   "id": "1d53940d",
   "metadata": {
    "execution": {
     "iopub.execute_input": "2025-01-02T16:05:13.034831Z",
     "iopub.status.busy": "2025-01-02T16:05:13.034384Z",
     "iopub.status.idle": "2025-01-02T16:05:13.258774Z",
     "shell.execute_reply": "2025-01-02T16:05:13.257689Z"
    },
    "papermill": {
     "duration": 0.251003,
     "end_time": "2025-01-02T16:05:13.260513",
     "exception": false,
     "start_time": "2025-01-02T16:05:13.009510",
     "status": "completed"
    },
    "tags": []
   },
   "outputs": [
    {
     "data": {
      "image/png": "[encoded data removed]",
      "text/plain": [
       "<Figure size 800x600 with 1 Axes>"
      ]
     },
     "metadata": {},
     "output_type": "display_data"
    }
   ],
   "source": [
    "# Calculate FPR, TPR, and thresholds\n",
    "fpr, tpr, thresholds = roc_curve(y_true, probs)\n",
    "\n",
    "# Calculate AUC\n",
    "auc = roc_auc_score(y_true, probs)\n",
    "\n",
    "# Plot ROC Curve\n",
    "plt.figure(figsize=(8, 6))\n",
    "plt.plot(fpr, tpr, color='blue', label=f\"ROC Curve (AUC = {auc:.2f})\")\n",
    "plt.plot([0, 1], [0, 1], color='red', linestyle='--', label=\"Random Guessing\")\n",
    "plt.title(\"Receiver Operating Characteristic (ROC) Curve\")\n",
    "plt.xlabel(\"False Positive Rate\")\n",
    "plt.ylabel(\"True Positive Rate\")\n",
    "plt.legend(loc=\"lower right\")\n",
    "plt.grid()\n",
    "plt.show()\n"
   ]
  },
  {
   "cell_type": "markdown",
   "id": "2fe3b0cf",
   "metadata": {
    "papermill": {
     "duration": 0.023947,
     "end_time": "2025-01-02T16:05:13.309074",
     "exception": false,
     "start_time": "2025-01-02T16:05:13.285127",
     "status": "completed"
    },
    "tags": []
   },
   "source": [
    "**Combined Approach of Supervised and Unsupervised Larning**"
   ]
  },
  {
   "cell_type": "code",
   "execution_count": 47,
   "id": "e7f1d118",
   "metadata": {
    "execution": {
     "iopub.execute_input": "2025-01-02T16:05:13.359502Z",
     "iopub.status.busy": "2025-01-02T16:05:13.359109Z",
     "iopub.status.idle": "2025-01-02T16:05:13.364533Z",
     "shell.execute_reply": "2025-01-02T16:05:13.363324Z"
    },
    "papermill": {
     "duration": 0.033465,
     "end_time": "2025-01-02T16:05:13.366641",
     "exception": false,
     "start_time": "2025-01-02T16:05:13.333176",
     "status": "completed"
    },
    "tags": []
   },
   "outputs": [],
   "source": [
    "#Assign SOM clusters\n",
    "def assign_som_clusters(som, data):\n",
    "    # Ensure data is a numpy array\n",
    "    if isinstance(data, pd.DataFrame):\n",
    "        data = data.to_numpy()\n",
    "    \n",
    "    clusters = []\n",
    "    for row in data:\n",
    "        winner = som.winner(row)  # Get the winning neuron\n",
    "        clusters.append(winner[0] * som_shape[1] + winner[1])  # Flatten the grid\n",
    "    return clusters"
   ]
  },
  {
   "cell_type": "code",
   "execution_count": 48,
   "id": "65b3d96b",
   "metadata": {
    "execution": {
     "iopub.execute_input": "2025-01-02T16:05:13.416490Z",
     "iopub.status.busy": "2025-01-02T16:05:13.416122Z",
     "iopub.status.idle": "2025-01-02T16:05:13.982893Z",
     "shell.execute_reply": "2025-01-02T16:05:13.982004Z"
    },
    "papermill": {
     "duration": 0.594058,
     "end_time": "2025-01-02T16:05:13.985090",
     "exception": false,
     "start_time": "2025-01-02T16:05:13.391032",
     "status": "completed"
    },
    "tags": []
   },
   "outputs": [],
   "source": [
    "feature_columns = df1.drop('loan_status', axis=1).columns.tolist()\n",
    "X_train = pd.DataFrame(X_train, columns=feature_columns)\n",
    "X_val = pd.DataFrame(X_val, columns=feature_columns)\n",
    "\n",
    "# Add SOM cluster labels as a feature\n",
    "X_train['som_cluster'] = assign_som_clusters(som, X_train)\n",
    "X_val['som_cluster'] = assign_som_clusters(som, X_val)"
   ]
  },
  {
   "cell_type": "code",
   "execution_count": 49,
   "id": "e8cd8ba1",
   "metadata": {
    "execution": {
     "iopub.execute_input": "2025-01-02T16:05:14.035323Z",
     "iopub.status.busy": "2025-01-02T16:05:14.034826Z",
     "iopub.status.idle": "2025-01-02T16:05:16.672238Z",
     "shell.execute_reply": "2025-01-02T16:05:16.671032Z"
    },
    "papermill": {
     "duration": 2.664711,
     "end_time": "2025-01-02T16:05:16.674282",
     "exception": false,
     "start_time": "2025-01-02T16:05:14.009571",
     "status": "completed"
    },
    "tags": []
   },
   "outputs": [
    {
     "data": {
      "text/html": [
       "<style>#sk-container-id-2 {color: black;background-color: white;}#sk-container-id-2 pre{padding: 0;}#sk-container-id-2 div.sk-toggleable {background-color: white;}#sk-container-id-2 label.sk-toggleable__label {cursor: pointer;display: block;width: 100%;margin-bottom: 0;padding: 0.3em;box-sizing: border-box;text-align: center;}#sk-container-id-2 label.sk-toggleable__label-arrow:before {content: \"▸\";float: left;margin-right: 0.25em;color: #696969;}#sk-container-id-2 label.sk-toggleable__label-arrow:hover:before {color: black;}#sk-container-id-2 div.sk-estimator:hover label.sk-toggleable__label-arrow:before {color: black;}#sk-container-id-2 div.sk-toggleable__content {max-height: 0;max-width: 0;overflow: hidden;text-align: left;background-color: #f0f8ff;}#sk-container-id-2 div.sk-toggleable__content pre {margin: 0.2em;color: black;border-radius: 0.25em;background-color: #f0f8ff;}#sk-container-id-2 input.sk-toggleable__control:checked~div.sk-toggleable__content {max-height: 200px;max-width: 100%;overflow: auto;}#sk-container-id-2 input.sk-toggleable__control:checked~label.sk-toggleable__label-arrow:before {content: \"▾\";}#sk-container-id-2 div.sk-estimator input.sk-toggleable__control:checked~label.sk-toggleable__label {background-color: #d4ebff;}#sk-container-id-2 div.sk-label input.sk-toggleable__control:checked~label.sk-toggleable__label {background-color: #d4ebff;}#sk-container-id-2 input.sk-hidden--visually {border: 0;clip: rect(1px 1px 1px 1px);clip: rect(1px, 1px, 1px, 1px);height: 1px;margin: -1px;overflow: hidden;padding: 0;position: absolute;width: 1px;}#sk-container-id-2 div.sk-estimator {font-family: monospace;background-color: #f0f8ff;border: 1px dotted black;border-radius: 0.25em;box-sizing: border-box;margin-bottom: 0.5em;}#sk-container-id-2 div.sk-estimator:hover {background-color: #d4ebff;}#sk-container-id-2 div.sk-parallel-item::after {content: \"\";width: 100%;border-bottom: 1px solid gray;flex-grow: 1;}#sk-container-id-2 div.sk-label:hover label.sk-toggleable__label {background-color: #d4ebff;}#sk-container-id-2 div.sk-serial::before {content: \"\";position: absolute;border-left: 1px solid gray;box-sizing: border-box;top: 0;bottom: 0;left: 50%;z-index: 0;}#sk-container-id-2 div.sk-serial {display: flex;flex-direction: column;align-items: center;background-color: white;padding-right: 0.2em;padding-left: 0.2em;position: relative;}#sk-container-id-2 div.sk-item {position: relative;z-index: 1;}#sk-container-id-2 div.sk-parallel {display: flex;align-items: stretch;justify-content: center;background-color: white;position: relative;}#sk-container-id-2 div.sk-item::before, #sk-container-id-2 div.sk-parallel-item::before {content: \"\";position: absolute;border-left: 1px solid gray;box-sizing: border-box;top: 0;bottom: 0;left: 50%;z-index: -1;}#sk-container-id-2 div.sk-parallel-item {display: flex;flex-direction: column;z-index: 1;position: relative;background-color: white;}#sk-container-id-2 div.sk-parallel-item:first-child::after {align-self: flex-end;width: 50%;}#sk-container-id-2 div.sk-parallel-item:last-child::after {align-self: flex-start;width: 50%;}#sk-container-id-2 div.sk-parallel-item:only-child::after {width: 0;}#sk-container-id-2 div.sk-dashed-wrapped {border: 1px dashed gray;margin: 0 0.4em 0.5em 0.4em;box-sizing: border-box;padding-bottom: 0.4em;background-color: white;}#sk-container-id-2 div.sk-label label {font-family: monospace;font-weight: bold;display: inline-block;line-height: 1.2em;}#sk-container-id-2 div.sk-label-container {text-align: center;}#sk-container-id-2 div.sk-container {/* jupyter's `normalize.less` sets `[hidden] { display: none; }` but bootstrap.min.css set `[hidden] { display: none !important; }` so we also need the `!important` here to be able to override the default hidden behavior on the sphinx rendered scikit-learn.org. See: https://github.com/scikit-learn/scikit-learn/issues/21755 */display: inline-block !important;position: relative;}#sk-container-id-2 div.sk-text-repr-fallback {display: none;}</style><div id=\"sk-container-id-2\" class=\"sk-top-container\"><div class=\"sk-text-repr-fallback\"><pre>RandomForestClassifier(random_state=42)</pre><b>In a Jupyter environment, please rerun this cell to show the HTML representation or trust the notebook. <br />On GitHub, the HTML representation is unable to render, please try loading this page with nbviewer.org.</b></div><div class=\"sk-container\" hidden><div class=\"sk-item\"><div class=\"sk-estimator sk-toggleable\"><input class=\"sk-toggleable__control sk-hidden--visually\" id=\"sk-estimator-id-10\" type=\"checkbox\" checked><label for=\"sk-estimator-id-10\" class=\"sk-toggleable__label sk-toggleable__label-arrow\">RandomForestClassifier</label><div class=\"sk-toggleable__content\"><pre>RandomForestClassifier(random_state=42)</pre></div></div></div></div></div>"
      ],
      "text/plain": [
       "RandomForestClassifier(random_state=42)"
      ]
     },
     "execution_count": 49,
     "metadata": {},
     "output_type": "execute_result"
    }
   ],
   "source": [
    "#Train Random Forest\n",
    "rf = RandomForestClassifier(random_state=42)\n",
    "rf.fit(X_train, y_train)"
   ]
  },
  {
   "cell_type": "code",
   "execution_count": 50,
   "id": "def9aa7c",
   "metadata": {
    "execution": {
     "iopub.execute_input": "2025-01-02T16:05:16.726348Z",
     "iopub.status.busy": "2025-01-02T16:05:16.725931Z",
     "iopub.status.idle": "2025-01-02T16:05:17.049366Z",
     "shell.execute_reply": "2025-01-02T16:05:17.048262Z"
    },
    "papermill": {
     "duration": 0.350769,
     "end_time": "2025-01-02T16:05:17.051163",
     "exception": false,
     "start_time": "2025-01-02T16:05:16.700394",
     "status": "completed"
    },
    "tags": []
   },
   "outputs": [
    {
     "name": "stdout",
     "output_type": "stream",
     "text": [
      "Accuracy: 0.93\n",
      "Precision: 0.96\n",
      "Recall: 0.69\n",
      "F1 Score: 0.80\n",
      "AUC: 0.92\n"
     ]
    }
   ],
   "source": [
    "#Predict on validation set\n",
    "y_pred = rf.predict(X_val)\n",
    "y_probs = rf.predict_proba(X_val)[:, 1]  # Probabilities for class 1\n",
    "\n",
    "# Step 10: Evaluate the model\n",
    "accuracy = accuracy_score(y_val, y_pred)\n",
    "precision = precision_score(y_val, y_pred)\n",
    "recall = recall_score(y_val, y_pred)\n",
    "f1 = f1_score(y_val, y_pred)\n",
    "auc = roc_auc_score(y_val, y_probs)\n",
    "\n",
    "print(f\"Accuracy: {accuracy:.2f}\")\n",
    "print(f\"Precision: {precision:.2f}\")\n",
    "print(f\"Recall: {recall:.2f}\")\n",
    "print(f\"F1 Score: {f1:.2f}\")\n",
    "print(f\"AUC: {auc:.2f}\")"
   ]
  },
  {
   "cell_type": "code",
   "execution_count": 51,
   "id": "e37f9910",
   "metadata": {
    "execution": {
     "iopub.execute_input": "2025-01-02T16:05:17.103408Z",
     "iopub.status.busy": "2025-01-02T16:05:17.102935Z",
     "iopub.status.idle": "2025-01-02T16:05:17.378196Z",
     "shell.execute_reply": "2025-01-02T16:05:17.377123Z"
    },
    "papermill": {
     "duration": 0.303682,
     "end_time": "2025-01-02T16:05:17.380091",
     "exception": false,
     "start_time": "2025-01-02T16:05:17.076409",
     "status": "completed"
    },
    "tags": []
   },
   "outputs": [
    {
     "data": {
      "image/png": "[encoded data removed]",
      "text/plain": [
       "<Figure size 800x600 with 1 Axes>"
      ]
     },
     "metadata": {},
     "output_type": "display_data"
    }
   ],
   "source": [
    "#AUC Curve\n",
    "fpr, tpr, thresholds = roc_curve(y_val, y_probs)\n",
    "plt.figure(figsize=(8, 6))\n",
    "plt.plot(fpr, tpr, color='blue', label=f\"ROC Curve (AUC = {auc:.2f})\")\n",
    "plt.plot([0, 1], [0, 1], color='red', linestyle='--', label=\"Random Guessing\")\n",
    "plt.title(\"Receiver Operating Characteristic (ROC) Curve\")\n",
    "plt.xlabel(\"False Positive Rate\")\n",
    "plt.ylabel(\"True Positive Rate\")\n",
    "plt.legend(loc=\"lower right\")\n",
    "plt.grid()\n",
    "plt.show()"
   ]
  },
  {
   "cell_type": "markdown",
   "id": "19545c59",
   "metadata": {
    "papermill": {
     "duration": 0.025169,
     "end_time": "2025-01-02T16:05:17.430949",
     "exception": false,
     "start_time": "2025-01-02T16:05:17.405780",
     "status": "completed"
    },
    "tags": []
   },
   "source": [
    "# **Results**"
   ]
  },
  {
   "cell_type": "markdown",
   "id": "94a863c5",
   "metadata": {
    "papermill": {
     "duration": 0.025341,
     "end_time": "2025-01-02T16:05:17.481711",
     "exception": false,
     "start_time": "2025-01-02T16:05:17.456370",
     "status": "completed"
    },
    "tags": []
   },
   "source": [
    "Performance assessment for diffrent models Recap\n",
    "\n",
    "**Integrated Model**:\n",
    "* Accuracy: 0.93\n",
    "* Precision: 0.96\n",
    "* Recall: 0.69\n",
    "* F1 Score: 0.80\n",
    "* AUC: 0.93\n",
    "\n",
    "**Unsupervised Model**\n",
    "\n",
    "* Accuracy: 0.83\n",
    "* Precision: 0.68\n",
    "* Recall: 0.43\n",
    "* F1 Score: 0.53\n",
    "* AUC: 0.83\n",
    "\n",
    "**Supervised Model**              \n",
    "\n",
    "* Accuracy: 0.926\n",
    "* Precision: 0.93\n",
    "* Recall: 0.93\n",
    "* F1 Score: 0.92 \n",
    "* AUC: 0.9263"
   ]
  },
  {
   "cell_type": "markdown",
   "id": "724e2599",
   "metadata": {
    "papermill": {
     "duration": 0.025184,
     "end_time": "2025-01-02T16:05:17.532449",
     "exception": false,
     "start_time": "2025-01-02T16:05:17.507265",
     "status": "completed"
    },
    "tags": []
   },
   "source": [
    "**Interpretation and Comparison**\n",
    "\n",
    "* Integrated Model (SOM + Random Forest): This model leverages the strengths of both unsupervised and supervised learning. It performs exceptionally well with high accuracy, precision, and AUC. However, the lower recall suggests that while it is excellent at identifying non-defaults, it could still miss some defaults.\n",
    "\n",
    "* Unsupervised Model (SOM): The unsupervised model struggles with both precision and recall, highlighting the challenges of using a purely unsupervised approach for a classification problem like predicting loan defaults. It misses a significant portion of actual defaults and has a higher rate of false positives.\n",
    "\n",
    "* Supervised Model (Random Forest): The supervised Random Forest model strikes a strong balance between precision, recall, and F1 score. It has higher recall and similar precision compared to the integrated model. While its performance is very good, it is slightly outperformed by the integrated model, likely due to the added information from the SOM features.\n",
    "\n",
    "Risk of Overfitting\n",
    "For the supervised model, the risk of overfitting is present. However, based on the metrics (e.g., high AUC, balanced precision, and recall), the model appears to generalize well. It’s important to continue validating the model on unseen data and apply regularization techniques like limiting tree depth and increasing minimum samples per leaf to avoid overfitting.\n",
    "\n"
   ]
  },
  {
   "cell_type": "markdown",
   "id": "bb1c17ad",
   "metadata": {
    "papermill": {
     "duration": 0.026012,
     "end_time": "2025-01-02T16:05:17.584549",
     "exception": false,
     "start_time": "2025-01-02T16:05:17.558537",
     "status": "completed"
    },
    "tags": []
   },
   "source": [
    "# **Conclusion**\n",
    "\n",
    "Best Model for Default Prediction: The Integrated Model (SOM + Random Forest) provides the best overall performance in terms of accuracy, precision, and AUC. However, improvements can still be made in recall to reduce missed defaults.\n",
    "\n",
    "Model Selection: \n",
    "* If we prioritize catching as many defaults as possible, the Supervised Random Forest model, with its higher recall, may be a better choice. \n",
    "* If we want to maintain a good balance between performance metrics and reduce false positives, the Integrated Model may be preferred.\n",
    "\n",
    "In either case, continual refinement, tuning, and monitoring will be important to ensure that the models perform optimally as new data becomes available."
   ]
  }
 ],
 "metadata": {
  "kaggle": {
   "accelerator": "none",
   "dataSources": [
    {
     "datasetId": 688532,
     "sourceId": 1207035,
     "sourceType": "datasetVersion"
    }
   ],
   "dockerImageVersionId": 30822,
   "isGpuEnabled": false,
   "isInternetEnabled": true,
   "language": "python",
   "sourceType": "notebook"
  },
  "kernelspec": {
   "display_name": "Python 3",
   "language": "python",
   "name": "python3"
  },
  "language_info": {
   "codemirror_mode": {
    "name": "ipython",
    "version": 3
   },
   "file_extension": ".py",
   "mimetype": "text/x-python",
   "name": "python",
   "nbconvert_exporter": "python",
   "pygments_lexer": "ipython3",
   "version": "3.10.12"
  },
  "papermill": {
   "default_parameters": {},
   "duration": 128.468913,
   "end_time": "2025-01-02T16:05:19.235364",
   "environment_variables": {},
   "exception": null,
   "input_path": "__notebook__.ipynb",
   "output_path": "__notebook__.ipynb",
   "parameters": {},
   "start_time": "2025-01-02T16:03:10.766451",
   "version": "2.6.0"
  }
 },
 "nbformat": 4,
 "nbformat_minor": 5
}
